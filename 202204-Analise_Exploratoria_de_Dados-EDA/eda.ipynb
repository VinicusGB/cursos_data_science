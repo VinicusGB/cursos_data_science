{
 "cells": [
  {
   "cell_type": "markdown",
   "metadata": {},
   "source": [
    "# EDA (Exploratory Data Analysis)\n",
    "**Fonte:** <a href=\"https://github.com/VinicusGB/cursos_data_science/blob/main/2021_07_12-UNIVESP-Introducao_Ciencia_de_Dados/semana4-descoberta_preparacao_dados.ipynb\" target=blank>UNIVESP</a> | <a href=\"https://www.ibm.com/br-pt/cloud/learn/exploratory-data-analysis\" target=_blank>IBM</a><br>"
   ]
  },
  {
   "cell_type": "markdown",
   "metadata": {},
   "source": [
    "## Análise Exploratória de Dados\n",
    "- **O que é?** _Técnica de análise, investigação e resumo de um conjunto de dados antes de fazer qualquer suposição._\n",
    "- **Por quê?** _Proporciona uma melhor compreensão das variáveis e a relação entre elas. Afim de verificar as principais características de um conjunto de dados. É possível descobrir de padrões, detectar anomalias, testar uma hipótese ou verificar suposições._\n",
    "- **Quando?** _Verificar se as técnicas estatísticas empregadas são adequadas._\n",
    "- **Como?** _Muitas vezes usando métodos de visualização de dados._"
   ]
  },
  {
   "cell_type": "markdown",
   "metadata": {},
   "source": [
    "- **Quantidade de variáveis:** unidimensional ou multidimensional;\n",
    "- **Tipos de variáveis:**\n",
    "  - **Quantitativas (Numéricas):** apresentam características que podem ser medidas em uma escala quantitativa, ou seja, apresentam valores numéricos.\n",
    "    - Discretas:\n",
    "      - _valores (0/1), idade, número de peças com defeito_\n",
    "    - Contínuas: \n",
    "      - _peso, tamanho, distância_\n",
    "    - Intervalares: sem zero absoluto\n",
    "      - _temperatura, datas de um calendário_\n",
    "    - Racionais: com zero absoluto\n",
    "      - _quantidade de vezes que uma pessoa foi ao hospital (o zero é parâmetro)_\n",
    "  - **Qualitativas (Simbólicas ou Categóricas):** apresentam características que não possuem valores quantitativos, mas apresentam várias categorias, ou seja, representam uma classificação do indivíduo.\n",
    "    - Nominais:\n",
    "      - _CPF, RG, cor dos olhos, sexo_\n",
    "    - Ordinais:\n",
    "      - _escolaridade, patente militar, classificação no campeonato_"
   ]
  },
  {
   "cell_type": "code",
   "execution_count": 26,
   "metadata": {},
   "outputs": [],
   "source": [
    "# Carregando os dados com Pandas\n",
    "import pandas as pd\n",
    "\n",
    "df1 = pd.read_csv('data/remocao_2021.csv',encoding='utf-8',sep=';')"
   ]
  },
  {
   "cell_type": "code",
   "execution_count": 27,
   "metadata": {},
   "outputs": [],
   "source": [
    "# Carregando os dados com PyArrow\n",
    "#!pip install pyarrow\n",
    "import pyarrow.parquet as pq\n",
    "\n",
    "table = pq.read_table('data/consolidado5.parquet')\n",
    "df2 = table.to_pandas()"
   ]
  },
  {
   "cell_type": "markdown",
   "metadata": {},
   "source": [
    "## Pandas Profiling\n",
    "**Fonte:** <a href=\"https://github.com/ydataai/pandas-profiling\" target=_blank>Documentação</a>\n",
    "- **Pontos fortes:** relatório gerado com avisos que aparecem no início. Ele nos informa as variáveis ​​que contêm valores NaN, variáveis ​​com muitos zeros, variáveis ​​categóricas com alta cardinalidade, etc.\n",
    "- **Pontos negativos:** uso com grandes conjuntos de dados. Com o aumento do tamanho dos dados o tempo para gerar o relatório também aumenta muito."
   ]
  },
  {
   "cell_type": "markdown",
   "metadata": {},
   "source": [
    "### Demonstração"
   ]
  },
  {
   "cell_type": "code",
   "execution_count": 28,
   "metadata": {},
   "outputs": [],
   "source": [
    "# Instalação\n",
    "# conda update -n base -c defaults conda\n",
    "# conda install -c conda-forge pandas-profiling\n",
    "# !pip install pandas-profiling"
   ]
  },
  {
   "cell_type": "code",
   "execution_count": 29,
   "metadata": {},
   "outputs": [],
   "source": [
    "# Importando a biblioteca\n",
    "from pandas_profiling import ProfileReport"
   ]
  },
  {
   "cell_type": "code",
   "execution_count": 30,
   "metadata": {},
   "outputs": [
    {
     "name": "stderr",
     "output_type": "stream",
     "text": [
      "[Step 2/3] Processing Pairwise Features      |          | [  0%]   1:57:14 -> (? left)PF, df_index] \n",
      "[Step 2/3] Processing Pairwise Features      |█▍        | [ 14%]   13:15 -> (1:19:30 left)\n",
      "[Step 2/3] Processing Pairwise Features      |█▍        | [ 14%]   12:40 -> (1:16:03 left)\n",
      "Summarize dataset: 100%|██████████| 46/46 [1:15:09<00:00, 98.04s/it, Completed]                            \n",
      "Generate report structure: 100%|██████████| 1/1 [00:01<00:00,  1.92s/it]\n",
      "Render HTML: 100%|██████████| 1/1 [03:08<00:00, 188.54s/it]\n",
      "Export report to file: 100%|██████████| 1/1 [00:02<00:00,  2.81s/it]\n"
     ]
    }
   ],
   "source": [
    "# Gerando um relatório completo\n",
    "prof = ProfileReport(df2)\n",
    "prof.to_file(output_file='outputs/output_pandas_profiling_completo.html')"
   ]
  },
  {
   "cell_type": "code",
   "execution_count": 33,
   "metadata": {},
   "outputs": [
    {
     "name": "stderr",
     "output_type": "stream",
     "text": [
      "Summarize dataset: 100%|██████████| 14/14 [00:00<00:00, 29.18it/s, Completed]                       \n",
      "Generate report structure: 100%|██████████| 1/1 [00:00<00:00,  1.03it/s]\n",
      "Render HTML: 100%|██████████| 1/1 [00:00<00:00,  5.98it/s]\n",
      "Export report to file: 100%|██████████| 1/1 [00:00<00:00, 251.46it/s]\n"
     ]
    }
   ],
   "source": [
    "# Gerando um relatório resumo\n",
    "profile = ProfileReport(df2, minimal=True)\n",
    "profile.to_file(output_file='outputs/output_pandas_profiling_resumo.html')"
   ]
  },
  {
   "cell_type": "markdown",
   "metadata": {},
   "source": [
    "## Sweetviz\n",
    "**Fonte:** <a href=\"https://github.com/fbdesignpro/sweetviz\" target=_blank>Documentação</a>"
   ]
  },
  {
   "cell_type": "code",
   "execution_count": 34,
   "metadata": {},
   "outputs": [],
   "source": [
    "# Instalação\n",
    "# conda update -n base -c defaults conda\n",
    "# conda install -c conda-forge sweetviz\n",
    "# !pip install sweetviz"
   ]
  },
  {
   "cell_type": "code",
   "execution_count": 35,
   "metadata": {},
   "outputs": [],
   "source": [
    "# Importação da biblioteca\n",
    "import sweetviz as sv"
   ]
  },
  {
   "cell_type": "code",
   "execution_count": 36,
   "metadata": {},
   "outputs": [
    {
     "name": "stderr",
     "output_type": "stream",
     "text": [
      "[Step 2/3] Processing Pairwise Features      |          | [  0%]   00:00 -> (? left)    "
     ]
    },
    {
     "ename": "AttributeError",
     "evalue": "'float' object has no attribute 'shape'",
     "output_type": "error",
     "traceback": [
      "\u001b[1;31m---------------------------------------------------------------------------\u001b[0m",
      "\u001b[1;31mAttributeError\u001b[0m                            Traceback (most recent call last)",
      "\u001b[1;32mc:\\Users\\vinicius.barbosa\\OneDrive - Univesp Acadêmico\\Ciência de Dados\\Cursos\\cursos_data_science\\202204-Analise_Exploratoria_de_Dados-EDA\\eda.ipynb Cell 15'\u001b[0m in \u001b[0;36m<cell line: 1>\u001b[1;34m()\u001b[0m\n\u001b[1;32m----> <a href='vscode-notebook-cell:/c%3A/Users/vinicius.barbosa/OneDrive%20-%20Univesp%20Acad%C3%AAmico/Ci%C3%AAncia%20de%20Dados/Cursos/cursos_data_science/202204-Analise_Exploratoria_de_Dados-EDA/eda.ipynb#ch0000021?line=0'>1</a>\u001b[0m relatorio \u001b[39m=\u001b[39m sv\u001b[39m.\u001b[39;49manalyze(df2)\n\u001b[0;32m      <a href='vscode-notebook-cell:/c%3A/Users/vinicius.barbosa/OneDrive%20-%20Univesp%20Acad%C3%AAmico/Ci%C3%AAncia%20de%20Dados/Cursos/cursos_data_science/202204-Analise_Exploratoria_de_Dados-EDA/eda.ipynb#ch0000021?line=1'>2</a>\u001b[0m relatorio\u001b[39m.\u001b[39mshow_html(\u001b[39m'\u001b[39m\u001b[39moutputs/output_sweetviz.html\u001b[39m\u001b[39m'\u001b[39m)\n",
      "File \u001b[1;32m~\\Anaconda3\\envs\\env_cursos\\lib\\site-packages\\sweetviz\\sv_public.py:12\u001b[0m, in \u001b[0;36manalyze\u001b[1;34m(source, target_feat, feat_cfg, pairwise_analysis)\u001b[0m\n\u001b[0;32m      <a href='file:///c%3A/Users/vinicius.barbosa/Anaconda3/envs/env_cursos/lib/site-packages/sweetviz/sv_public.py?line=7'>8</a>\u001b[0m \u001b[39mdef\u001b[39;00m \u001b[39manalyze\u001b[39m(source: Union[pd\u001b[39m.\u001b[39mDataFrame, Tuple[pd\u001b[39m.\u001b[39mDataFrame, \u001b[39mstr\u001b[39m]],\n\u001b[0;32m      <a href='file:///c%3A/Users/vinicius.barbosa/Anaconda3/envs/env_cursos/lib/site-packages/sweetviz/sv_public.py?line=8'>9</a>\u001b[0m             target_feat: \u001b[39mstr\u001b[39m \u001b[39m=\u001b[39m \u001b[39mNone\u001b[39;00m,\n\u001b[0;32m     <a href='file:///c%3A/Users/vinicius.barbosa/Anaconda3/envs/env_cursos/lib/site-packages/sweetviz/sv_public.py?line=9'>10</a>\u001b[0m             feat_cfg: FeatureConfig \u001b[39m=\u001b[39m \u001b[39mNone\u001b[39;00m,\n\u001b[0;32m     <a href='file:///c%3A/Users/vinicius.barbosa/Anaconda3/envs/env_cursos/lib/site-packages/sweetviz/sv_public.py?line=10'>11</a>\u001b[0m             pairwise_analysis: \u001b[39mstr\u001b[39m \u001b[39m=\u001b[39m \u001b[39m'\u001b[39m\u001b[39mauto\u001b[39m\u001b[39m'\u001b[39m):\n\u001b[1;32m---> <a href='file:///c%3A/Users/vinicius.barbosa/Anaconda3/envs/env_cursos/lib/site-packages/sweetviz/sv_public.py?line=11'>12</a>\u001b[0m     report \u001b[39m=\u001b[39m sweetviz\u001b[39m.\u001b[39;49mDataframeReport(source, target_feat, \u001b[39mNone\u001b[39;49;00m,\n\u001b[0;32m     <a href='file:///c%3A/Users/vinicius.barbosa/Anaconda3/envs/env_cursos/lib/site-packages/sweetviz/sv_public.py?line=12'>13</a>\u001b[0m                                       pairwise_analysis, feat_cfg)\n\u001b[0;32m     <a href='file:///c%3A/Users/vinicius.barbosa/Anaconda3/envs/env_cursos/lib/site-packages/sweetviz/sv_public.py?line=13'>14</a>\u001b[0m     \u001b[39mreturn\u001b[39;00m report\n",
      "File \u001b[1;32m~\\Anaconda3\\envs\\env_cursos\\lib\\site-packages\\sweetviz\\dataframe_report.py:280\u001b[0m, in \u001b[0;36mDataframeReport.__init__\u001b[1;34m(self, source, target_feature_name, compare, pairwise_analysis, fc)\u001b[0m\n\u001b[0;32m    <a href='file:///c%3A/Users/vinicius.barbosa/Anaconda3/envs/env_cursos/lib/site-packages/sweetviz/dataframe_report.py?line=277'>278</a>\u001b[0m \u001b[39mself\u001b[39m\u001b[39m.\u001b[39mprogress_bar\u001b[39m.\u001b[39mreset(total\u001b[39m=\u001b[39m\u001b[39mlen\u001b[39m(features_to_process))\n\u001b[0;32m    <a href='file:///c%3A/Users/vinicius.barbosa/Anaconda3/envs/env_cursos/lib/site-packages/sweetviz/dataframe_report.py?line=278'>279</a>\u001b[0m \u001b[39mself\u001b[39m\u001b[39m.\u001b[39mprogress_bar\u001b[39m.\u001b[39mset_description_str(\u001b[39m\"\u001b[39m\u001b[39m[Step 2/3] Processing Pairwise Features\u001b[39m\u001b[39m\"\u001b[39m)\n\u001b[1;32m--> <a href='file:///c%3A/Users/vinicius.barbosa/Anaconda3/envs/env_cursos/lib/site-packages/sweetviz/dataframe_report.py?line=279'>280</a>\u001b[0m \u001b[39mself\u001b[39;49m\u001b[39m.\u001b[39;49mprocess_associations(features_to_process, source_target_series, compare_target_series)\n\u001b[0;32m    <a href='file:///c%3A/Users/vinicius.barbosa/Anaconda3/envs/env_cursos/lib/site-packages/sweetviz/dataframe_report.py?line=281'>282</a>\u001b[0m \u001b[39mself\u001b[39m\u001b[39m.\u001b[39mprogress_bar\u001b[39m.\u001b[39mreset(total\u001b[39m=\u001b[39m\u001b[39m1\u001b[39m)\n\u001b[0;32m    <a href='file:///c%3A/Users/vinicius.barbosa/Anaconda3/envs/env_cursos/lib/site-packages/sweetviz/dataframe_report.py?line=282'>283</a>\u001b[0m \u001b[39mself\u001b[39m\u001b[39m.\u001b[39mprogress_bar\u001b[39m.\u001b[39mset_description_str(\u001b[39m\"\u001b[39m\u001b[39m[Step 3/3] Generating associations graph\u001b[39m\u001b[39m\"\u001b[39m)\n",
      "File \u001b[1;32m~\\Anaconda3\\envs\\env_cursos\\lib\\site-packages\\sweetviz\\dataframe_report.py:463\u001b[0m, in \u001b[0;36mDataframeReport.process_associations\u001b[1;34m(self, features_to_process, source_target_series, compare_target_series)\u001b[0m\n\u001b[0;32m    <a href='file:///c%3A/Users/vinicius.barbosa/Anaconda3/envs/env_cursos/lib/site-packages/sweetviz/dataframe_report.py?line=458'>459</a>\u001b[0m \u001b[39mif\u001b[39;00m \u001b[39mself\u001b[39m[other\u001b[39m.\u001b[39msource\u001b[39m.\u001b[39mname][\u001b[39m\"\u001b[39m\u001b[39mtype\u001b[39m\u001b[39m\"\u001b[39m] \u001b[39m==\u001b[39m FeatureType\u001b[39m.\u001b[39mTYPE_NUM:\n\u001b[0;32m    <a href='file:///c%3A/Users/vinicius.barbosa/Anaconda3/envs/env_cursos/lib/site-packages/sweetviz/dataframe_report.py?line=459'>460</a>\u001b[0m     \u001b[39m# NUM-NUM\u001b[39;00m\n\u001b[0;32m    <a href='file:///c%3A/Users/vinicius.barbosa/Anaconda3/envs/env_cursos/lib/site-packages/sweetviz/dataframe_report.py?line=460'>461</a>\u001b[0m     \u001b[39mtry\u001b[39;00m:\n\u001b[0;32m    <a href='file:///c%3A/Users/vinicius.barbosa/Anaconda3/envs/env_cursos/lib/site-packages/sweetviz/dataframe_report.py?line=461'>462</a>\u001b[0m         cur_associations[other\u001b[39m.\u001b[39msource\u001b[39m.\u001b[39mname] \u001b[39m=\u001b[39m \\\n\u001b[1;32m--> <a href='file:///c%3A/Users/vinicius.barbosa/Anaconda3/envs/env_cursos/lib/site-packages/sweetviz/dataframe_report.py?line=462'>463</a>\u001b[0m             feature\u001b[39m.\u001b[39;49msource\u001b[39m.\u001b[39;49mcorr(other\u001b[39m.\u001b[39;49msource, method\u001b[39m=\u001b[39;49m\u001b[39m'\u001b[39;49m\u001b[39mpearson\u001b[39;49m\u001b[39m'\u001b[39;49m)\n\u001b[0;32m    <a href='file:///c%3A/Users/vinicius.barbosa/Anaconda3/envs/env_cursos/lib/site-packages/sweetviz/dataframe_report.py?line=463'>464</a>\u001b[0m     \u001b[39mexcept\u001b[39;00m \u001b[39mFloatingPointError\u001b[39;00m:\n\u001b[0;32m    <a href='file:///c%3A/Users/vinicius.barbosa/Anaconda3/envs/env_cursos/lib/site-packages/sweetviz/dataframe_report.py?line=464'>465</a>\u001b[0m         \u001b[39m# This usually happens when there is only 1 non-NaN value in each data series\u001b[39;00m\n\u001b[0;32m    <a href='file:///c%3A/Users/vinicius.barbosa/Anaconda3/envs/env_cursos/lib/site-packages/sweetviz/dataframe_report.py?line=465'>466</a>\u001b[0m         \u001b[39m# Assigning the value 1.0 as per\u001b[39;00m\n\u001b[0;32m    <a href='file:///c%3A/Users/vinicius.barbosa/Anaconda3/envs/env_cursos/lib/site-packages/sweetviz/dataframe_report.py?line=466'>467</a>\u001b[0m         \u001b[39m# https://stats.stackexchange.com/questions/94150/why-is-the-pearson-correlation-1-when-only-two-data-values-are-available\u001b[39;00m\n\u001b[0;32m    <a href='file:///c%3A/Users/vinicius.barbosa/Anaconda3/envs/env_cursos/lib/site-packages/sweetviz/dataframe_report.py?line=467'>468</a>\u001b[0m         \u001b[39m# -> Also showing a warning\u001b[39;00m\n\u001b[0;32m    <a href='file:///c%3A/Users/vinicius.barbosa/Anaconda3/envs/env_cursos/lib/site-packages/sweetviz/dataframe_report.py?line=468'>469</a>\u001b[0m         cur_associations[other\u001b[39m.\u001b[39msource\u001b[39m.\u001b[39mname] \u001b[39m=\u001b[39m \u001b[39m1.0\u001b[39m\n",
      "File \u001b[1;32m~\\Anaconda3\\envs\\env_cursos\\lib\\site-packages\\pandas\\core\\series.py:2557\u001b[0m, in \u001b[0;36mSeries.corr\u001b[1;34m(self, other, method, min_periods)\u001b[0m\n\u001b[0;32m   <a href='file:///c%3A/Users/vinicius.barbosa/Anaconda3/envs/env_cursos/lib/site-packages/pandas/core/series.py?line=2553'>2554</a>\u001b[0m     \u001b[39mreturn\u001b[39;00m np\u001b[39m.\u001b[39mnan\n\u001b[0;32m   <a href='file:///c%3A/Users/vinicius.barbosa/Anaconda3/envs/env_cursos/lib/site-packages/pandas/core/series.py?line=2555'>2556</a>\u001b[0m \u001b[39mif\u001b[39;00m method \u001b[39min\u001b[39;00m [\u001b[39m\"\u001b[39m\u001b[39mpearson\u001b[39m\u001b[39m\"\u001b[39m, \u001b[39m\"\u001b[39m\u001b[39mspearman\u001b[39m\u001b[39m\"\u001b[39m, \u001b[39m\"\u001b[39m\u001b[39mkendall\u001b[39m\u001b[39m\"\u001b[39m] \u001b[39mor\u001b[39;00m callable(method):\n\u001b[1;32m-> <a href='file:///c%3A/Users/vinicius.barbosa/Anaconda3/envs/env_cursos/lib/site-packages/pandas/core/series.py?line=2556'>2557</a>\u001b[0m     \u001b[39mreturn\u001b[39;00m nanops\u001b[39m.\u001b[39;49mnancorr(\n\u001b[0;32m   <a href='file:///c%3A/Users/vinicius.barbosa/Anaconda3/envs/env_cursos/lib/site-packages/pandas/core/series.py?line=2557'>2558</a>\u001b[0m         this\u001b[39m.\u001b[39;49mvalues, other\u001b[39m.\u001b[39;49mvalues, method\u001b[39m=\u001b[39;49mmethod, min_periods\u001b[39m=\u001b[39;49mmin_periods\n\u001b[0;32m   <a href='file:///c%3A/Users/vinicius.barbosa/Anaconda3/envs/env_cursos/lib/site-packages/pandas/core/series.py?line=2558'>2559</a>\u001b[0m     )\n\u001b[0;32m   <a href='file:///c%3A/Users/vinicius.barbosa/Anaconda3/envs/env_cursos/lib/site-packages/pandas/core/series.py?line=2560'>2561</a>\u001b[0m \u001b[39mraise\u001b[39;00m \u001b[39mValueError\u001b[39;00m(\n\u001b[0;32m   <a href='file:///c%3A/Users/vinicius.barbosa/Anaconda3/envs/env_cursos/lib/site-packages/pandas/core/series.py?line=2561'>2562</a>\u001b[0m     \u001b[39m\"\u001b[39m\u001b[39mmethod must be either \u001b[39m\u001b[39m'\u001b[39m\u001b[39mpearson\u001b[39m\u001b[39m'\u001b[39m\u001b[39m, \u001b[39m\u001b[39m\"\u001b[39m\n\u001b[0;32m   <a href='file:///c%3A/Users/vinicius.barbosa/Anaconda3/envs/env_cursos/lib/site-packages/pandas/core/series.py?line=2562'>2563</a>\u001b[0m     \u001b[39m\"\u001b[39m\u001b[39m'\u001b[39m\u001b[39mspearman\u001b[39m\u001b[39m'\u001b[39m\u001b[39m, \u001b[39m\u001b[39m'\u001b[39m\u001b[39mkendall\u001b[39m\u001b[39m'\u001b[39m\u001b[39m, or a callable, \u001b[39m\u001b[39m\"\u001b[39m\n\u001b[0;32m   <a href='file:///c%3A/Users/vinicius.barbosa/Anaconda3/envs/env_cursos/lib/site-packages/pandas/core/series.py?line=2563'>2564</a>\u001b[0m     \u001b[39mf\u001b[39m\u001b[39m\"\u001b[39m\u001b[39m'\u001b[39m\u001b[39m{\u001b[39;00mmethod\u001b[39m}\u001b[39;00m\u001b[39m'\u001b[39m\u001b[39m was supplied\u001b[39m\u001b[39m\"\u001b[39m\n\u001b[0;32m   <a href='file:///c%3A/Users/vinicius.barbosa/Anaconda3/envs/env_cursos/lib/site-packages/pandas/core/series.py?line=2564'>2565</a>\u001b[0m )\n",
      "File \u001b[1;32m~\\Anaconda3\\envs\\env_cursos\\lib\\site-packages\\pandas\\core\\nanops.py:93\u001b[0m, in \u001b[0;36mdisallow.__call__.<locals>._f\u001b[1;34m(*args, **kwargs)\u001b[0m\n\u001b[0;32m     <a href='file:///c%3A/Users/vinicius.barbosa/Anaconda3/envs/env_cursos/lib/site-packages/pandas/core/nanops.py?line=90'>91</a>\u001b[0m \u001b[39mtry\u001b[39;00m:\n\u001b[0;32m     <a href='file:///c%3A/Users/vinicius.barbosa/Anaconda3/envs/env_cursos/lib/site-packages/pandas/core/nanops.py?line=91'>92</a>\u001b[0m     \u001b[39mwith\u001b[39;00m np\u001b[39m.\u001b[39merrstate(invalid\u001b[39m=\u001b[39m\u001b[39m\"\u001b[39m\u001b[39mignore\u001b[39m\u001b[39m\"\u001b[39m):\n\u001b[1;32m---> <a href='file:///c%3A/Users/vinicius.barbosa/Anaconda3/envs/env_cursos/lib/site-packages/pandas/core/nanops.py?line=92'>93</a>\u001b[0m         \u001b[39mreturn\u001b[39;00m f(\u001b[39m*\u001b[39margs, \u001b[39m*\u001b[39m\u001b[39m*\u001b[39mkwargs)\n\u001b[0;32m     <a href='file:///c%3A/Users/vinicius.barbosa/Anaconda3/envs/env_cursos/lib/site-packages/pandas/core/nanops.py?line=93'>94</a>\u001b[0m \u001b[39mexcept\u001b[39;00m \u001b[39mValueError\u001b[39;00m \u001b[39mas\u001b[39;00m e:\n\u001b[0;32m     <a href='file:///c%3A/Users/vinicius.barbosa/Anaconda3/envs/env_cursos/lib/site-packages/pandas/core/nanops.py?line=94'>95</a>\u001b[0m     \u001b[39m# we want to transform an object array\u001b[39;00m\n\u001b[0;32m     <a href='file:///c%3A/Users/vinicius.barbosa/Anaconda3/envs/env_cursos/lib/site-packages/pandas/core/nanops.py?line=95'>96</a>\u001b[0m     \u001b[39m# ValueError message to the more typical TypeError\u001b[39;00m\n\u001b[0;32m     <a href='file:///c%3A/Users/vinicius.barbosa/Anaconda3/envs/env_cursos/lib/site-packages/pandas/core/nanops.py?line=96'>97</a>\u001b[0m     \u001b[39m# e.g. this is normally a disallowed function on\u001b[39;00m\n\u001b[0;32m     <a href='file:///c%3A/Users/vinicius.barbosa/Anaconda3/envs/env_cursos/lib/site-packages/pandas/core/nanops.py?line=97'>98</a>\u001b[0m     \u001b[39m# object arrays that contain strings\u001b[39;00m\n\u001b[0;32m     <a href='file:///c%3A/Users/vinicius.barbosa/Anaconda3/envs/env_cursos/lib/site-packages/pandas/core/nanops.py?line=98'>99</a>\u001b[0m     \u001b[39mif\u001b[39;00m is_object_dtype(args[\u001b[39m0\u001b[39m]):\n",
      "File \u001b[1;32m~\\Anaconda3\\envs\\env_cursos\\lib\\site-packages\\pandas\\core\\nanops.py:1546\u001b[0m, in \u001b[0;36mnancorr\u001b[1;34m(a, b, method, min_periods)\u001b[0m\n\u001b[0;32m   <a href='file:///c%3A/Users/vinicius.barbosa/Anaconda3/envs/env_cursos/lib/site-packages/pandas/core/nanops.py?line=1542'>1543</a>\u001b[0m     \u001b[39mreturn\u001b[39;00m np\u001b[39m.\u001b[39mnan\n\u001b[0;32m   <a href='file:///c%3A/Users/vinicius.barbosa/Anaconda3/envs/env_cursos/lib/site-packages/pandas/core/nanops.py?line=1544'>1545</a>\u001b[0m f \u001b[39m=\u001b[39m get_corr_func(method)\n\u001b[1;32m-> <a href='file:///c%3A/Users/vinicius.barbosa/Anaconda3/envs/env_cursos/lib/site-packages/pandas/core/nanops.py?line=1545'>1546</a>\u001b[0m \u001b[39mreturn\u001b[39;00m f(a, b)\n",
      "File \u001b[1;32m~\\Anaconda3\\envs\\env_cursos\\lib\\site-packages\\pandas\\core\\nanops.py:1567\u001b[0m, in \u001b[0;36mget_corr_func.<locals>.func\u001b[1;34m(a, b)\u001b[0m\n\u001b[0;32m   <a href='file:///c%3A/Users/vinicius.barbosa/Anaconda3/envs/env_cursos/lib/site-packages/pandas/core/nanops.py?line=1565'>1566</a>\u001b[0m \u001b[39mdef\u001b[39;00m \u001b[39mfunc\u001b[39m(a, b):\n\u001b[1;32m-> <a href='file:///c%3A/Users/vinicius.barbosa/Anaconda3/envs/env_cursos/lib/site-packages/pandas/core/nanops.py?line=1566'>1567</a>\u001b[0m     \u001b[39mreturn\u001b[39;00m np\u001b[39m.\u001b[39;49mcorrcoef(a, b)[\u001b[39m0\u001b[39m, \u001b[39m1\u001b[39m]\n",
      "File \u001b[1;32m<__array_function__ internals>:180\u001b[0m, in \u001b[0;36mcorrcoef\u001b[1;34m(*args, **kwargs)\u001b[0m\n",
      "File \u001b[1;32m~\\Anaconda3\\envs\\env_cursos\\lib\\site-packages\\numpy\\lib\\function_base.py:2821\u001b[0m, in \u001b[0;36mcorrcoef\u001b[1;34m(x, y, rowvar, bias, ddof, dtype)\u001b[0m\n\u001b[0;32m   <a href='file:///c%3A/Users/vinicius.barbosa/Anaconda3/envs/env_cursos/lib/site-packages/numpy/lib/function_base.py?line=2816'>2817</a>\u001b[0m \u001b[39mif\u001b[39;00m bias \u001b[39mis\u001b[39;00m \u001b[39mnot\u001b[39;00m np\u001b[39m.\u001b[39m_NoValue \u001b[39mor\u001b[39;00m ddof \u001b[39mis\u001b[39;00m \u001b[39mnot\u001b[39;00m np\u001b[39m.\u001b[39m_NoValue:\n\u001b[0;32m   <a href='file:///c%3A/Users/vinicius.barbosa/Anaconda3/envs/env_cursos/lib/site-packages/numpy/lib/function_base.py?line=2817'>2818</a>\u001b[0m     \u001b[39m# 2015-03-15, 1.10\u001b[39;00m\n\u001b[0;32m   <a href='file:///c%3A/Users/vinicius.barbosa/Anaconda3/envs/env_cursos/lib/site-packages/numpy/lib/function_base.py?line=2818'>2819</a>\u001b[0m     warnings\u001b[39m.\u001b[39mwarn(\u001b[39m'\u001b[39m\u001b[39mbias and ddof have no effect and are deprecated\u001b[39m\u001b[39m'\u001b[39m,\n\u001b[0;32m   <a href='file:///c%3A/Users/vinicius.barbosa/Anaconda3/envs/env_cursos/lib/site-packages/numpy/lib/function_base.py?line=2819'>2820</a>\u001b[0m                   \u001b[39mDeprecationWarning\u001b[39;00m, stacklevel\u001b[39m=\u001b[39m\u001b[39m3\u001b[39m)\n\u001b[1;32m-> <a href='file:///c%3A/Users/vinicius.barbosa/Anaconda3/envs/env_cursos/lib/site-packages/numpy/lib/function_base.py?line=2820'>2821</a>\u001b[0m c \u001b[39m=\u001b[39m cov(x, y, rowvar, dtype\u001b[39m=\u001b[39;49mdtype)\n\u001b[0;32m   <a href='file:///c%3A/Users/vinicius.barbosa/Anaconda3/envs/env_cursos/lib/site-packages/numpy/lib/function_base.py?line=2821'>2822</a>\u001b[0m \u001b[39mtry\u001b[39;00m:\n\u001b[0;32m   <a href='file:///c%3A/Users/vinicius.barbosa/Anaconda3/envs/env_cursos/lib/site-packages/numpy/lib/function_base.py?line=2822'>2823</a>\u001b[0m     d \u001b[39m=\u001b[39m diag(c)\n",
      "File \u001b[1;32m<__array_function__ internals>:180\u001b[0m, in \u001b[0;36mcov\u001b[1;34m(*args, **kwargs)\u001b[0m\n",
      "File \u001b[1;32m~\\Anaconda3\\envs\\env_cursos\\lib\\site-packages\\numpy\\lib\\function_base.py:2656\u001b[0m, in \u001b[0;36mcov\u001b[1;34m(m, y, rowvar, bias, ddof, fweights, aweights, dtype)\u001b[0m\n\u001b[0;32m   <a href='file:///c%3A/Users/vinicius.barbosa/Anaconda3/envs/env_cursos/lib/site-packages/numpy/lib/function_base.py?line=2652'>2653</a>\u001b[0m     \u001b[39melse\u001b[39;00m:\n\u001b[0;32m   <a href='file:///c%3A/Users/vinicius.barbosa/Anaconda3/envs/env_cursos/lib/site-packages/numpy/lib/function_base.py?line=2653'>2654</a>\u001b[0m         w \u001b[39m*\u001b[39m\u001b[39m=\u001b[39m aweights\n\u001b[1;32m-> <a href='file:///c%3A/Users/vinicius.barbosa/Anaconda3/envs/env_cursos/lib/site-packages/numpy/lib/function_base.py?line=2655'>2656</a>\u001b[0m avg, w_sum \u001b[39m=\u001b[39m average(X, axis\u001b[39m=\u001b[39;49m\u001b[39m1\u001b[39;49m, weights\u001b[39m=\u001b[39;49mw, returned\u001b[39m=\u001b[39;49m\u001b[39mTrue\u001b[39;49;00m)\n\u001b[0;32m   <a href='file:///c%3A/Users/vinicius.barbosa/Anaconda3/envs/env_cursos/lib/site-packages/numpy/lib/function_base.py?line=2656'>2657</a>\u001b[0m w_sum \u001b[39m=\u001b[39m w_sum[\u001b[39m0\u001b[39m]\n\u001b[0;32m   <a href='file:///c%3A/Users/vinicius.barbosa/Anaconda3/envs/env_cursos/lib/site-packages/numpy/lib/function_base.py?line=2658'>2659</a>\u001b[0m \u001b[39m# Determine the normalization\u001b[39;00m\n",
      "File \u001b[1;32m<__array_function__ internals>:180\u001b[0m, in \u001b[0;36maverage\u001b[1;34m(*args, **kwargs)\u001b[0m\n",
      "File \u001b[1;32m~\\Anaconda3\\envs\\env_cursos\\lib\\site-packages\\numpy\\lib\\function_base.py:530\u001b[0m, in \u001b[0;36maverage\u001b[1;34m(a, axis, weights, returned)\u001b[0m\n\u001b[0;32m    <a href='file:///c%3A/Users/vinicius.barbosa/Anaconda3/envs/env_cursos/lib/site-packages/numpy/lib/function_base.py?line=526'>527</a>\u001b[0m     avg \u001b[39m=\u001b[39m np\u001b[39m.\u001b[39mmultiply(a, wgt, dtype\u001b[39m=\u001b[39mresult_dtype)\u001b[39m.\u001b[39msum(axis)\u001b[39m/\u001b[39mscl\n\u001b[0;32m    <a href='file:///c%3A/Users/vinicius.barbosa/Anaconda3/envs/env_cursos/lib/site-packages/numpy/lib/function_base.py?line=528'>529</a>\u001b[0m \u001b[39mif\u001b[39;00m returned:\n\u001b[1;32m--> <a href='file:///c%3A/Users/vinicius.barbosa/Anaconda3/envs/env_cursos/lib/site-packages/numpy/lib/function_base.py?line=529'>530</a>\u001b[0m     \u001b[39mif\u001b[39;00m scl\u001b[39m.\u001b[39;49mshape \u001b[39m!=\u001b[39m avg\u001b[39m.\u001b[39mshape:\n\u001b[0;32m    <a href='file:///c%3A/Users/vinicius.barbosa/Anaconda3/envs/env_cursos/lib/site-packages/numpy/lib/function_base.py?line=530'>531</a>\u001b[0m         scl \u001b[39m=\u001b[39m np\u001b[39m.\u001b[39mbroadcast_to(scl, avg\u001b[39m.\u001b[39mshape)\u001b[39m.\u001b[39mcopy()\n\u001b[0;32m    <a href='file:///c%3A/Users/vinicius.barbosa/Anaconda3/envs/env_cursos/lib/site-packages/numpy/lib/function_base.py?line=531'>532</a>\u001b[0m     \u001b[39mreturn\u001b[39;00m avg, scl\n",
      "\u001b[1;31mAttributeError\u001b[0m: 'float' object has no attribute 'shape'"
     ]
    }
   ],
   "source": [
    "relatorio = sv.analyze(df2)\n",
    "relatorio.show_html('outputs/output_sweetviz.html')"
   ]
  },
  {
   "cell_type": "markdown",
   "metadata": {},
   "source": [
    "## Autoviz"
   ]
  },
  {
   "cell_type": "code",
   "execution_count": null,
   "metadata": {},
   "outputs": [],
   "source": []
  },
  {
   "cell_type": "markdown",
   "metadata": {},
   "source": [
    "## D-Tale"
   ]
  },
  {
   "cell_type": "markdown",
   "metadata": {},
   "source": [
    "## DataPrep"
   ]
  },
  {
   "cell_type": "markdown",
   "metadata": {},
   "source": [
    "## Seaborn"
   ]
  },
  {
   "cell_type": "markdown",
   "metadata": {},
   "source": [
    "## Referências:\n"
   ]
  }
 ],
 "metadata": {
  "interpreter": {
   "hash": "2be5faf79681da6f2a61fdfdd5405d65d042280f7fba6178067603e3a2925119"
  },
  "kernelspec": {
   "display_name": "Python 3.10.2 64-bit",
   "language": "python",
   "name": "python3"
  },
  "language_info": {
   "codemirror_mode": {
    "name": "ipython",
    "version": 3
   },
   "file_extension": ".py",
   "mimetype": "text/x-python",
   "name": "python",
   "nbconvert_exporter": "python",
   "pygments_lexer": "ipython3",
   "version": "3.9.7"
  },
  "orig_nbformat": 4
 },
 "nbformat": 4,
 "nbformat_minor": 2
}
