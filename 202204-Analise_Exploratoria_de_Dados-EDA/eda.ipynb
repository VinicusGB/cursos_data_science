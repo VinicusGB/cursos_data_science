{
 "cells": [
  {
   "cell_type": "markdown",
   "metadata": {},
   "source": [
    "# EDA (Exploratory Data Analysis)\n",
    "**Fonte:** <a href=\"https://github.com/VinicusGB/cursos_data_science/blob/main/2021_07_12-UNIVESP-Introducao_Ciencia_de_Dados/semana4-descoberta_preparacao_dados.ipynb\" target=blank>UNIVESP</a> | <a href=\"https://www.ibm.com/br-pt/cloud/learn/exploratory-data-analysis\" target=_blank>IBM</a>  <br>"
   ]
  },
  {
   "cell_type": "markdown",
   "metadata": {},
   "source": [
    "## Análise Exploratória de Dados\n",
    "- **O que é?** _Técnica de análise, investigação e resumo de um conjunto de dados antes de fazer qualquer suposição._\n",
    "- **Por quê?** _Proporciona uma melhor compreensão das variáveis e a relação entre elas. Afim de verificar as principais características de um conjunto de dados. É possível descobrir de padrões, detectar anomalias, testar uma hipótese ou verificar suposições._\n",
    "- **Quando?** _Verificar se as técnicas estatísticas empregadas são adequadas._\n",
    "- **Como?** _Muitas vezes usando métodos de visualização de dados._"
   ]
  },
  {
   "cell_type": "markdown",
   "metadata": {},
   "source": [
    "- **Quantidade de variáveis:** unidimensional ou multidimensional;\n",
    "- **Tipos de variáveis:**\n",
    "  - **Quantitativas (Numéricas):** apresentam características que podem ser medidas em uma escala quantitativa, ou seja, apresentam valores numéricos.\n",
    "    - Discretas:\n",
    "      - _valores (0/1), idade, número de peças com defeito_\n",
    "    - Contínuas: \n",
    "      - _peso, tamanho, distância_\n",
    "    - Intervalares: sem zero absoluto\n",
    "      - _temperatura, datas de um calendário_\n",
    "    - Racionais: com zero absoluto\n",
    "      - _quantidade de vezes que uma pessoa foi ao hospital (o zero é parâmetro)_\n",
    "  - **Qualitativas (Simbólicas ou Categóricas):** apresentam características que não possuem valores quantitativos, mas apresentam várias categorias, ou seja, representam uma classificação do indivíduo.\n",
    "    - Nominais:\n",
    "      - _CPF, RG, cor dos olhos, sexo_\n",
    "    - Ordinais:\n",
    "      - _escolaridade, patente militar, classificação no campeonato_"
   ]
  },
  {
   "cell_type": "code",
   "execution_count": 15,
   "metadata": {},
   "outputs": [],
   "source": [
    "import pandas as pd\n",
    "\n",
    "df = pd.read_csv('remocao_2021.csv',encoding='utf8',sep=';')"
   ]
  },
  {
   "cell_type": "markdown",
   "metadata": {},
   "source": [
    "## Pandas Profiling\n",
    "- **Pontos fortes:** relatório gerado com avisos que aparecem no início. Ele nos informa as variáveis ​​que contêm valores NaN, variáveis ​​com muitos zeros, variáveis ​​categóricas com alta cardinalidade, etc.\n",
    "- **Pontos negativos:** uso com grandes conjuntos de dados. Com o aumento do tamanho dos dados o tempo para gerar o relatório também aumenta muito."
   ]
  },
  {
   "cell_type": "markdown",
   "metadata": {},
   "source": [
    "### Demonstração"
   ]
  },
  {
   "cell_type": "code",
   "execution_count": 23,
   "metadata": {},
   "outputs": [
    {
     "name": "stdout",
     "output_type": "stream",
     "text": [
      "Requirement already satisfied: pandas-profiling in c:\\users\\vinicius.gomes\\anaconda3\\lib\\site-packages (3.1.0)\n",
      "Requirement already satisfied: tqdm>=4.48.2 in c:\\users\\vinicius.gomes\\anaconda3\\lib\\site-packages (from pandas-profiling) (4.62.3)\n",
      "Requirement already satisfied: multimethod>=1.4 in c:\\users\\vinicius.gomes\\anaconda3\\lib\\site-packages (from pandas-profiling) (1.8)\n",
      "Requirement already satisfied: seaborn>=0.10.1 in c:\\users\\vinicius.gomes\\anaconda3\\lib\\site-packages (from pandas-profiling) (0.11.2)\n",
      "Requirement already satisfied: pandas!=1.0.0,!=1.0.1,!=1.0.2,!=1.1.0,>=0.25.3 in c:\\users\\vinicius.gomes\\anaconda3\\lib\\site-packages (from pandas-profiling) (1.3.4)\n",
      "Requirement already satisfied: pydantic>=1.8.1 in c:\\users\\vinicius.gomes\\anaconda3\\lib\\site-packages (from pandas-profiling) (1.9.0)\n",
      "Requirement already satisfied: matplotlib>=3.2.0 in c:\\users\\vinicius.gomes\\anaconda3\\lib\\site-packages (from pandas-profiling) (3.4.3)\n",
      "Requirement already satisfied: PyYAML>=5.0.0 in c:\\users\\vinicius.gomes\\anaconda3\\lib\\site-packages (from pandas-profiling) (6.0)\n",
      "Requirement already satisfied: markupsafe~=2.0.1 in c:\\users\\vinicius.gomes\\anaconda3\\lib\\site-packages (from pandas-profiling) (2.0.1)\n",
      "Requirement already satisfied: visions[type_image_path]==0.7.4 in c:\\users\\vinicius.gomes\\anaconda3\\lib\\site-packages (from pandas-profiling) (0.7.4)\n",
      "Requirement already satisfied: phik>=0.11.1 in c:\\users\\vinicius.gomes\\anaconda3\\lib\\site-packages (from pandas-profiling) (0.12.2)\n",
      "Requirement already satisfied: jinja2>=2.11.1 in c:\\users\\vinicius.gomes\\anaconda3\\lib\\site-packages (from pandas-profiling) (2.11.3)\n",
      "Requirement already satisfied: tangled-up-in-unicode==0.1.0 in c:\\users\\vinicius.gomes\\anaconda3\\lib\\site-packages (from pandas-profiling) (0.1.0)\n",
      "Requirement already satisfied: missingno>=0.4.2 in c:\\users\\vinicius.gomes\\anaconda3\\lib\\site-packages (from pandas-profiling) (0.5.1)\n",
      "Requirement already satisfied: joblib~=1.0.1 in c:\\users\\vinicius.gomes\\anaconda3\\lib\\site-packages (from pandas-profiling) (1.0.1)\n",
      "Requirement already satisfied: numpy>=1.16.0 in c:\\users\\vinicius.gomes\\anaconda3\\lib\\site-packages (from pandas-profiling) (1.20.3)\n",
      "Requirement already satisfied: htmlmin>=0.1.12 in c:\\users\\vinicius.gomes\\anaconda3\\lib\\site-packages (from pandas-profiling) (0.1.12)\n",
      "Requirement already satisfied: scipy>=1.4.1 in c:\\users\\vinicius.gomes\\anaconda3\\lib\\site-packages (from pandas-profiling) (1.7.1)\n",
      "Requirement already satisfied: requests>=2.24.0 in c:\\users\\vinicius.gomes\\anaconda3\\lib\\site-packages (from pandas-profiling) (2.26.0)\n",
      "Requirement already satisfied: attrs>=19.3.0 in c:\\users\\vinicius.gomes\\anaconda3\\lib\\site-packages (from visions[type_image_path]==0.7.4->pandas-profiling) (21.2.0)\n",
      "Requirement already satisfied: networkx>=2.4 in c:\\users\\vinicius.gomes\\anaconda3\\lib\\site-packages (from visions[type_image_path]==0.7.4->pandas-profiling) (2.6.3)\n",
      "Requirement already satisfied: imagehash in c:\\users\\vinicius.gomes\\anaconda3\\lib\\site-packages (from visions[type_image_path]==0.7.4->pandas-profiling) (4.2.1)\n",
      "Requirement already satisfied: Pillow in c:\\users\\vinicius.gomes\\anaconda3\\lib\\site-packages (from visions[type_image_path]==0.7.4->pandas-profiling) (8.4.0)\n",
      "Requirement already satisfied: python-dateutil>=2.7 in c:\\users\\vinicius.gomes\\anaconda3\\lib\\site-packages (from matplotlib>=3.2.0->pandas-profiling) (2.8.2)\n",
      "Requirement already satisfied: cycler>=0.10 in c:\\users\\vinicius.gomes\\anaconda3\\lib\\site-packages (from matplotlib>=3.2.0->pandas-profiling) (0.10.0)\n",
      "Requirement already satisfied: pyparsing>=2.2.1 in c:\\users\\vinicius.gomes\\anaconda3\\lib\\site-packages (from matplotlib>=3.2.0->pandas-profiling) (3.0.4)\n",
      "Requirement already satisfied: kiwisolver>=1.0.1 in c:\\users\\vinicius.gomes\\anaconda3\\lib\\site-packages (from matplotlib>=3.2.0->pandas-profiling) (1.3.1)\n",
      "Requirement already satisfied: six in c:\\users\\vinicius.gomes\\anaconda3\\lib\\site-packages (from cycler>=0.10->matplotlib>=3.2.0->pandas-profiling) (1.16.0)\n",
      "Requirement already satisfied: pytz>=2017.3 in c:\\users\\vinicius.gomes\\anaconda3\\lib\\site-packages (from pandas!=1.0.0,!=1.0.1,!=1.0.2,!=1.1.0,>=0.25.3->pandas-profiling) (2021.3)\n",
      "Requirement already satisfied: typing-extensions>=3.7.4.3 in c:\\users\\vinicius.gomes\\anaconda3\\lib\\site-packages (from pydantic>=1.8.1->pandas-profiling) (3.10.0.2)\n",
      "Requirement already satisfied: charset-normalizer~=2.0.0 in c:\\users\\vinicius.gomes\\anaconda3\\lib\\site-packages (from requests>=2.24.0->pandas-profiling) (2.0.4)\n",
      "Requirement already satisfied: urllib3<1.27,>=1.21.1 in c:\\users\\vinicius.gomes\\anaconda3\\lib\\site-packages (from requests>=2.24.0->pandas-profiling) (1.26.7)\n",
      "Requirement already satisfied: idna<4,>=2.5 in c:\\users\\vinicius.gomes\\anaconda3\\lib\\site-packages (from requests>=2.24.0->pandas-profiling) (3.2)\n",
      "Requirement already satisfied: certifi>=2017.4.17 in c:\\users\\vinicius.gomes\\anaconda3\\lib\\site-packages (from requests>=2.24.0->pandas-profiling) (2021.10.8)\n",
      "Requirement already satisfied: colorama in c:\\users\\vinicius.gomes\\anaconda3\\lib\\site-packages (from tqdm>=4.48.2->pandas-profiling) (0.4.4)\n",
      "Requirement already satisfied: PyWavelets in c:\\users\\vinicius.gomes\\anaconda3\\lib\\site-packages (from imagehash->visions[type_image_path]==0.7.4->pandas-profiling) (1.1.1)\n"
     ]
    }
   ],
   "source": [
    "# Instalação\n",
    "!pip install pandas-profiling"
   ]
  },
  {
   "cell_type": "code",
   "execution_count": 37,
   "metadata": {},
   "outputs": [],
   "source": [
    "# Importando a biblioteca\n",
    "from pandas_profiling import ProfileReport"
   ]
  },
  {
   "cell_type": "code",
   "execution_count": 38,
   "metadata": {},
   "outputs": [
    {
     "name": "stderr",
     "output_type": "stream",
     "text": [
      "Summarize dataset: 100%|██████████| 41/41 [00:04<00:00,  8.26it/s, Completed]                               \n",
      "Generate report structure: 100%|██████████| 1/1 [00:02<00:00,  2.80s/it]\n",
      "Render HTML: 100%|██████████| 1/1 [00:00<00:00,  1.41it/s]\n",
      "Export report to file: 100%|██████████| 1/1 [00:00<00:00, 200.05it/s]\n"
     ]
    }
   ],
   "source": [
    "# Gerando um relatório completo\n",
    "prof = ProfileReport(df) \n",
    "prof.to_file(output_file='output.html')"
   ]
  },
  {
   "cell_type": "code",
   "execution_count": 39,
   "metadata": {},
   "outputs": [
    {
     "name": "stderr",
     "output_type": "stream",
     "text": [
      "Summarize dataset: 100%|██████████| 16/16 [00:00<00:00, 108.84it/s, Completed]                      \n",
      "Generate report structure: 100%|██████████| 1/1 [00:01<00:00,  1.11s/it]\n",
      "Render HTML: 100%|██████████| 1/1 [00:00<00:00,  7.75it/s]\n",
      "Export report to file: 100%|██████████| 1/1 [00:00<00:00, 499.62it/s]\n"
     ]
    }
   ],
   "source": [
    "# Gerando um relatório resumo\n",
    "profile = ProfileReport(df, minimal=True) \n",
    "profile.to_file(output_file=\"output_min.html\")"
   ]
  },
  {
   "cell_type": "markdown",
   "metadata": {},
   "source": [
    "## Sweetviz"
   ]
  },
  {
   "cell_type": "markdown",
   "metadata": {},
   "source": [
    "## Autoviz"
   ]
  },
  {
   "cell_type": "markdown",
   "metadata": {},
   "source": [
    "## D-Tale"
   ]
  },
  {
   "cell_type": "markdown",
   "metadata": {},
   "source": [
    "## DataPrep"
   ]
  },
  {
   "cell_type": "markdown",
   "metadata": {},
   "source": [
    "## Seaborn"
   ]
  },
  {
   "cell_type": "markdown",
   "metadata": {},
   "source": [
    "## Referências:\n"
   ]
  }
 ],
 "metadata": {
  "interpreter": {
   "hash": "2be5faf79681da6f2a61fdfdd5405d65d042280f7fba6178067603e3a2925119"
  },
  "kernelspec": {
   "display_name": "Python 3.10.2 64-bit",
   "language": "python",
   "name": "python3"
  },
  "language_info": {
   "codemirror_mode": {
    "name": "ipython",
    "version": 3
   },
   "file_extension": ".py",
   "mimetype": "text/x-python",
   "name": "python",
   "nbconvert_exporter": "python",
   "pygments_lexer": "ipython3",
   "version": "3.9.7"
  },
  "orig_nbformat": 4
 },
 "nbformat": 4,
 "nbformat_minor": 2
}
