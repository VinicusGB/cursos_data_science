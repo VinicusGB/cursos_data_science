{
 "cells": [
  {
   "cell_type": "markdown",
   "metadata": {},
   "source": [
    "# Quiz"
   ]
  },
  {
   "cell_type": "markdown",
   "metadata": {},
   "source": [
    "## Semana 1: Introdução a Ciência de Dados"
   ]
  },
  {
   "cell_type": "markdown",
   "metadata": {},
   "source": [
    "1.\tDe acordo com Jim Gray, qual é considerado o quarto paradigma da Ciência? \n",
    "- ciência computacional.\n",
    "- __Correta:\te-science.__\n",
    "- ciência observacional.\n",
    "- ciência teórica. \n",
    "- ciência empírica. \n",
    "\n",
    "**Comentário da resposta:** Você acertou! Essa é a alternativa correta. E-science é considerado por Jim Gray como o quarto paradigma da Ciência.\n",
    "\n",
    "2.\tQual das alternativas correspondem a um elemento que caracteriza a Indústria 4.0?\n",
    "- Eletricidade.\n",
    "- __Correta: Big Data.__\n",
    "- Biotecnologia.\n",
    "- Mecanização da Produção.\n",
    "- Mecatrônica.\n",
    "\n",
    "**Comentário da resposta:** Você acertou! Essa é a alternativa correta. Big Data é um dos elementos que caracterizam a Indústria 4.0.\n",
    "\n",
    "3.\tQual das plataformas apresentadas caracteriza-se como um dos mais importantes ambientes de competições de Ciência de Dados? \n",
    "- __Correta: Kaggle__\n",
    "- Indeed\n",
    "- Workana\n",
    "- free-for.dev\n",
    "- Toptal\n",
    "\n",
    "**Comentário da resposta:** Você acertou! Essa é a alternativa correta. Kaggle é um dos mais importantes ambientes de competição de Ciência de Dados."
   ]
  },
  {
   "cell_type": "markdown",
   "metadata": {},
   "source": [
    "## Semana 2: NumPy e PanDAS"
   ]
  },
  {
   "cell_type": "markdown",
   "metadata": {},
   "source": [
    "1.\tQual das plataformas de desenvolvimento Python exige que você disponha de uma conexão com a Internet?\n",
    "- Anaconda.\n",
    "- Jupyter Lab.\n",
    "- IPython.\n",
    "- Jupyter Notebook.\n",
    "- __Correta: Google Colab.__\n",
    "\n",
    "**Comentário da resposta:** Você acertou! Essa é a alternativa correta. O Google Colab exige que o desenvolvedor se conecte à plataforma Google via Internet.\n",
    "\n",
    "2. Qual é o nome de uma das estruturas fundamentais da biblioteca Pandas, que representa uma tabela de dados retangular e contém uma coleção ordenada de colunas, em que cada uma pode ter um tipo de valor diferente (booleano, string, numérico, entre outros)? \n",
    "\n",
    "- __Correta: DataFrame.__\n",
    "- Lista.\n",
    "- Matriz.\n",
    "- Series.\n",
    "- NDArray.\n",
    "\n",
    "**Comentário da resposta:** Você acertou! Essa é a alternativa correta. O DataFrame é a estrutura da biblioteca Pandas que representa uma tabela de dados retangular.\n",
    "\n",
    "3. Qual é o comando para acessar um elemento na primeira posição de um array de nome “x”, de uma dimensão? Texto-base I – Python Data Science Handbook - (Leia os capítulos 1-2) | Jake VanderPlas\n",
    "\n",
    "- x[1]\n",
    "- x[x]\n",
    "- __Correta: x[0]__\n",
    "- x[-1]\n",
    "- x[9]\n",
    "\n",
    "**Comentário da resposta:** Você acertou! Essa é a alternativa correta. Usa-se x[0] para acessar a primeira posição do array. Lembrando que a contagem de posições se inicia com zero.\n",
    "\n",
    "4. O comando utilizado para importar a biblioteca Pandas, determinando o alias “pd” para acessá-la é: Texto-base II – Python e o mercado financeiro - (Leia o capítulo 8 até 8.3)| Marcos A. L. Caetano\n",
    "\n",
    "- from pandas import pd\n",
    "- __Correta:__ import pandas as pd\n",
    "- transform pandas in pd\n",
    "- import pd as pandas\n",
    "- from pd import pandas\n",
    "\n",
    "**Comentário da resposta:** Você acertou! Essa é a alternativa correta. O comando “import pandas as pd”, realiza a importação da biblioteca, indicando “pd” como alias."
   ]
  },
  {
   "cell_type": "markdown",
   "metadata": {},
   "source": [
    "## Semana 3: Web Scraping e Uso de Arquivos"
   ]
  },
  {
   "cell_type": "markdown",
   "metadata": {},
   "source": [
    "1. Qual das bibliotecas é open source e dispõe de algoritmos para realizar tarefas de aprendizado de máquinas?\n",
    "- MatPlotLib.\n",
    "- __Correta: Scikit-Learn.__\n",
    "- NumPy.\n",
    "- Pandas.\n",
    "- Seaborn.\n",
    "\n",
    "**Comentário da resposta:** Você acertou! Essa é a alternativa correta. A biblioteca Scikit-Learn é open source e contém muitos algoritmos para aprendizado de máquinas.\n",
    "\n",
    "2. Qual a principal biblioteca de Web Scraping usada na demonstração da videoaula?\n",
    "- MatPlotLib.\n",
    "- Seaborn.\n",
    "- __Correta: BeautifulSoup.__\n",
    "- NumPy.\n",
    "- Scikit-Learn.\n",
    "\n",
    "**Comentário da resposta:** Você acertou! Essa é a alternativa correta. A biblioteca BeautifulSoup é uma das principais utilizadas para Web Scraping e foi demonstrada em aula.\n",
    "\n",
    "3. Durante a videoaula foi apresentada uma API, https://randomuser.me/api. Essa API retorna dados em que formato?\n",
    "- tsv.\n",
    "- csv.\n",
    "- __Correta: json.__\n",
    "- txt.\n",
    "- html.\n",
    "\n",
    "**Comentário da resposta:** Você acertou! Essa é a alternativa correta. A API https://randomuser.me/api retorna os valores em formato json.\n"
   ]
  },
  {
   "cell_type": "code",
   "execution_count": null,
   "metadata": {},
   "outputs": [],
   "source": []
  }
 ],
 "metadata": {
  "kernelspec": {
   "display_name": "Python 3",
   "language": "python",
   "name": "python3"
  },
  "language_info": {
   "codemirror_mode": {
    "name": "ipython",
    "version": 3
   },
   "file_extension": ".py",
   "mimetype": "text/x-python",
   "name": "python",
   "nbconvert_exporter": "python",
   "pygments_lexer": "ipython3",
   "version": "3.8.5"
  }
 },
 "nbformat": 4,
 "nbformat_minor": 4
}
