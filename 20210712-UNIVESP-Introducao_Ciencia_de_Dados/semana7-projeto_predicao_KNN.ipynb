{
 "cells": [
  {
   "cell_type": "markdown",
   "metadata": {},
   "source": [
    "# Semana 7: Desenvolvendo um Projeto de Predição com KKK\n",
    "\n",
    "**Video-aula:**\n",
    "<a href=\"https://www.youtube.com/watch?v=KNs2FHvqjHc\" target=\"_blank\">Parte I</a> | \n",
    "<a href=\"https://www.youtube.com/watch?v=DRFQYeyFu3c\" target=\"_blank\">Parte II</a> | \n",
    "<a href=\"https://www.youtube.com/watch?v=o_DYoaC-wxA\" target=\"_blank\">Parte III</a>"
   ]
  },
  {
   "cell_type": "markdown",
   "metadata": {
    "jp-MarkdownHeadingCollapsed": true,
    "tags": []
   },
   "source": [
    "## Projeto"
   ]
  },
  {
   "cell_type": "markdown",
   "metadata": {},
   "source": [
    "### Conceitos\n",
    "Refers: https://numpy.org/doc/stable/reference/\n",
    "\n",
    "- Utilizada para processamento númerico;\n",
    "- Muito utilizada para array e também para array multidimensional, adequada para dados homogêneos em arrays;\n",
    "- Faz operações matemáticas rápidas, sem uso de laços"
   ]
  },
  {
   "cell_type": "markdown",
   "metadata": {
    "tags": []
   },
   "source": [
    "## Demonstração"
   ]
  },
  {
   "cell_type": "markdown",
   "metadata": {},
   "source": [
    "### Importar as bibliotecas"
   ]
  },
  {
   "cell_type": "code",
   "execution_count": 3,
   "metadata": {},
   "outputs": [],
   "source": [
    "import pandas as pandas\n",
    "import numpy as numpy\n",
    "#import seaborn as sns\n",
    "#import matplolib.pyplot as plt"
   ]
  },
  {
   "cell_type": "markdown",
   "metadata": {
    "tags": []
   },
   "source": [
    "## Quiz"
   ]
  },
  {
   "cell_type": "markdown",
   "metadata": {},
   "source": [
    "1. Qual é a função utilizada em um algoritmo de Machine Learning, responsável pelo treinamento?\n",
    "- define.\n",
    "- ___Correta: fit___\n",
    "- evaluate.\n",
    "- head.\n",
    "- predict.\n",
    "\n",
    "__Comentário da resposta:__ Você acertou! Essa é a alternativa correta. A função fit é a responsável pelo treinamento dos modelos nos algoritmos de Machine Learning.\n",
    "\n"
   ]
  },
  {
   "cell_type": "markdown",
   "metadata": {},
   "source": [
    "2. Qual é o recurso utilizado para ter uma visão geral, incluindo dados sumarizados, sobre os dados que estão em um dataframe Pandas?\n",
    "- ___Correta: describe___\n",
    "- head\n",
    "- to_csv\n",
    "- read_csv\n",
    "- tail\n",
    "\n",
    "__Comentário da resposta:__ Você acertou! Essa é a alternativa correta. A função describe possibilita ter um visão geral, incluindo dados sumarizados dos dados de um dataframe."
   ]
  },
  {
   "cell_type": "markdown",
   "metadata": {},
   "source": [
    "3. Num projeto de predição, para que usamos a função mean_absolute_error()?\n",
    "- ___Correta: Validar o modelo.___\n",
    "- Separar dados de treino e teste.\n",
    "- Predizer valores.\n",
    "- Treinar o modelo.\n",
    "- Limpar os dados.\n",
    "\n",
    "__Comentário da resposta:__ Você acertou! Essa é a alternativa correta. A mean_absolute_erros() é usada para validar o modelo, comparando os resultados preditos com os dados de teste."
   ]
  },
  {
   "cell_type": "markdown",
   "metadata": {},
   "source": [
    "4. O processo de “identificação das fontes de dados”, está relacionado a qual fase da análise preditiva?Texto-base 7.1 – Análise Preditiva para leigos (Leia as páginas de 55 a 74, 76 a 79 e 103 a 113) | Anasse Bari e outros\n",
    "- Validação do modelo.\n",
    "- ___Correta: Preparação dos dados.___\n",
    "- Definição do algoritmo.\n",
    "- Treino do modelo.\n",
    "- Definição dos objetivos do negócio.\n",
    "\n",
    "__Comentário da resposta:__ Você acertou! Essa é a alternativa correta. Durante a preparação dos dados é que se identifica as fontes de dados, para que possa ser realizada a coleta e pré-processamento."
   ]
  },
  {
   "cell_type": "code",
   "execution_count": null,
   "metadata": {},
   "outputs": [],
   "source": []
  }
 ],
 "metadata": {
  "interpreter": {
   "hash": "ef796e1e7024433d19305a7ffeb65115dd8f1e6a355f1f9a5c3ca9ca67053e84"
  },
  "kernelspec": {
   "display_name": "Python 3 (ipykernel)",
   "language": "python",
   "name": "python3"
  },
  "language_info": {
   "codemirror_mode": {
    "name": "ipython",
    "version": 3
   },
   "file_extension": ".py",
   "mimetype": "text/x-python",
   "name": "python",
   "nbconvert_exporter": "python",
   "pygments_lexer": "ipython3",
   "version": "3.8.12"
  }
 },
 "nbformat": 4,
 "nbformat_minor": 4
}
