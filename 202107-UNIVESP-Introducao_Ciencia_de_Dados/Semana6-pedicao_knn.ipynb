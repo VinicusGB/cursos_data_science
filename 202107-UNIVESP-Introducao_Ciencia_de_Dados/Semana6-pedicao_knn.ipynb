{
 "cells": [
  {
   "cell_type": "markdown",
   "metadata": {},
   "source": [
    "# Semana 6: Predição e KNN (K-Nearest Neighbors)\n",
    "\n",
    "**Video-aula:**\n",
    "<a href=\"https://www.youtube.com/watch?v=wZ4XDI4PQ2E\" target=\"_blank\">Predição de Dados</a> | \n",
    "<a href=\"https://www.youtube.com/watch?v=4Dpf76AB9Js\" target=\"_blank\">Algoritmo KNN e Avaliação de Modelos</a> | \n",
    "<a href=\"https://www.youtube.com/watch?v=AaJB3sqtAME\" target=\"_blank\">Entrevista com Renata Castanha</a>"
   ]
  },
  {
   "cell_type": "markdown",
   "metadata": {
    "jp-MarkdownHeadingCollapsed": true,
    "tags": []
   },
   "source": [
    "## Predição de dados"
   ]
  },
  {
   "cell_type": "markdown",
   "metadata": {},
   "source": [
    "_\"Anunciar antecipadamente o que deve acontecer\"_"
   ]
  },
  {
   "cell_type": "markdown",
   "metadata": {},
   "source": [
    "- Todas as vezes que se lê, assiste ou escuta uma abordagem sobre DS, rapidamente o termo \"Predição\" é colocado em pauta.\n",
    "- É também esse termo que __cria__ uma relação de __diferença entre estudos de BI e de DS__, visto que tanto BI quanto DS __têm processos muito parecidos__, inclusive no contexto de Big Data, entretanto, entende-se que o __BI__ fomenta a __tomada de decisão__ baseado no que __já aconteceu__ e o __DS__ projeta a __tomada decisão__ baseado no que __aconteceu, e no que PREVÊ que acontecerá__."
   ]
  },
  {
   "cell_type": "markdown",
   "metadata": {
    "jp-MarkdownHeadingCollapsed": true,
    "tags": []
   },
   "source": [
    "### Análise preditiva\n",
    "A __análise preditiva__, é a __capacidade de prever resultados e gerar insights futuros, com base em dados do passado (e do presente), com o uso de machine learning e modelagem estatística__."
   ]
  },
  {
   "cell_type": "markdown",
   "metadata": {},
   "source": [
    "- É um dos principais recursos e objetos de desejo de quem estuda DS.\n",
    "- A análise preditiva tem sido utilizada pelas maiores empresas do mundo para tomar decisões nos mais variados segmentos e está atrelada a uma diversidade de aplicações e de possibilidades, que torna impossível enumerá-las.\n",
    "  - Novas perspectivas nunca são demais. Quanto mais você consegue enxergar, melhores se tornam suas decisões — e __ficar no escuro não é uma boa opção__.\n",
    "  - É preciso __saber o que o espera__, preferencialmente __antes das outras pessoas__.\n",
    "    - _Exemplo: É como participar de um programa de TV em que você precisa escolher uma das portas para ganhar um prêmio surpresa. Elas são todas iguais, então tudo o que pode fazer é arriscar seu melhor palpite — a escolha depende de você e da sorte. Mas e se você tivesse uma vantagem — a capacidade de espiar pela fechadura? A análise preditiva proporciona essa vantagem._"
   ]
  },
  {
   "cell_type": "markdown",
   "metadata": {},
   "source": [
    "- Resumindo, imagine um mundo em que seja possível maximizar o potencial de cada momento de sua vida. A vida seria produtiva, eficiente e poderosa.\n",
    "- Você teria (de certo modo) superpoderes — e pouparia muito tempo.\n",
    "- Esse mundo pode parecer um pouco chato para pessoas que gostam de assumir riscos não calculados, mas não para uma organização que visa lucros.\n",
    "- As empresas gastam milhões em gerenciamento de riscos. E se existir algo que as ajude a gerenciar riscos, otimizar operações e maximizar lucros, com certeza você deveria conhecer.\n",
    "<br>__Esse é o mundo da análise preditiva!__"
   ]
  },
  {
   "cell_type": "markdown",
   "metadata": {
    "jp-MarkdownHeadingCollapsed": true,
    "tags": []
   },
   "source": [
    "### Predizendo\n",
    "Podemos modelar comportamentos e predizer ações."
   ]
  },
  {
   "cell_type": "markdown",
   "metadata": {},
   "source": [
    "- Quais produtos os clientes visualizaram antes de comprar?\n",
    "- Quais páginas os clientes visualizaram antes de comprar?\n",
    "- Clientes que compraram olham descrições?\n",
    "- Clientes que compraram leram comentários?\n",
    "- Clientes que compraram leram comentários positivos e negativos?\n",
    "- Compraram algum produto além do que estavam buscando?\n",
    "- As casas vendidas em um determinado bairro têm algo em comum que as que não foram vendidas não têm?\n",
    "- Clientes que cancelaram um plano (de algum produto ou serviço) tiveram que comportamento antes de solicitar o cancelamento?\n",
    "- Produtos que venceram (ou chegaram perto disso) no estoque foram comprados em que período? Eles atendem uma demanda sazonal? Eles atendem ao fluxo de caixa da empresa?\n",
    "- Produtos que foram comprados na \"Promoção\" do fornecedor realmente valeram a pena?\n",
    "- O aumento da visibilidade de um produto ou serviço foi impactado diretamente pelo marketing pago nas redes sociais?"
   ]
  },
  {
   "cell_type": "markdown",
   "metadata": {
    "jp-MarkdownHeadingCollapsed": true,
    "tags": []
   },
   "source": [
    "#### Oportunidade\n",
    "__Organizações__ de todo o mundo esforçam-se para se __aprimorar, competir e economizar__."
   ]
  },
  {
   "cell_type": "markdown",
   "metadata": {},
   "source": [
    "- Buscam tornar seu __processo de planejamento mais ágil__, investigam como administrar inventários e otimizar as alocações de recursos para ter mais benefícios, e buscam __agir nas oportunidades__ conforme surgem em tempo real.\n",
    "- A __análise preditiva pode tornar todos esses objetivos mais atingíveis__. Os domínios em que a análise preditiva pode ser aplicada são ilimitados; o campo está aberto, e vale tudo!"
   ]
  },
  {
   "cell_type": "markdown",
   "metadata": {
    "jp-MarkdownHeadingCollapsed": true,
    "tags": []
   },
   "source": [
    "#### Compreensão para predizer\n",
    "Quando se quer __prever um evento com alguma precisão__, é __necessário conhecer o passado e entender a situação atual__. "
   ]
  },
  {
   "cell_type": "markdown",
   "metadata": {},
   "source": [
    "Isso requer diversos processos:\n",
    "  - Extrair os __fatos__ que estão __acontecendo no momento__.\n",
    "  - __Distinguir os fatos passados daqueles que acabaram de acontecer__.\n",
    "  - __Deduzir possíveis cenários__ (criar hipóteses) que poderiam ocorrer.\n",
    "  - __Classificar os cenários__ (modelos de ML) de acordo com a probabilidade de acontecerem."
   ]
  },
  {
   "cell_type": "markdown",
   "metadata": {
    "jp-MarkdownHeadingCollapsed": true,
    "tags": []
   },
   "source": [
    "#### Combinar para predizer\n",
    "As análises preditivas geralmente __nascem de três ingredientes principais__:"
   ]
  },
  {
   "cell_type": "markdown",
   "metadata": {},
   "source": [
    "  - _Conhecimento de negócios_.\n",
    "  - _Equipe de ciência de dados e tecnologia_.\n",
    "  - _Os dados_.\n",
    "- Embora a proporção desses três ingredientes varie de um negócio para outro, todos são necessários para uma solução de análise preditiva bem-sucedida que resulte em insights acionáveis!"
   ]
  },
  {
   "cell_type": "markdown",
   "metadata": {
    "jp-MarkdownHeadingCollapsed": true,
    "tags": []
   },
   "source": [
    "#### Realizar a predição"
   ]
  },
  {
   "cell_type": "markdown",
   "metadata": {},
   "source": [
    "- Já vimos várias etapas de um projeto de DS. Para executar o processo do ML, efetivar a predição, os passos são:\n",
    "  - Carregar os dados.\n",
    "  - Escolher um algoritmo que realize a tarefa de predição.\n",
    "  - Treinar o modelo.\n",
    "  - Visualizar o modelo.\n",
    "  - Testar o modelo.\n",
    "  - Avaliar o modelo."
   ]
  },
  {
   "cell_type": "markdown",
   "metadata": {
    "jp-MarkdownHeadingCollapsed": true,
    "tags": []
   },
   "source": [
    "### Como escolher o algoritmo?"
   ]
  },
  {
   "cell_type": "markdown",
   "metadata": {},
   "source": [
    "- Essa é uma das __principais tarefas do cientista de dados__, _compreender a necessidade e as características dos projetos_ para poder decidir qual é o melhor algoritmo a ser utilizado.\n",
    "- __Existe uma regra, uma tabela, uma dica?__\n",
    "  - Pode até existir, mas __geralmente é a experiência__ com o uso e aplicação dos algoritmos que fortalece o conhecimento do cientista de dados sobre caminhos a serem seguidos.\n",
    "  - Saber escolher o algoritmo __(sim, precisa testar mais de um)__, é uma das tarefas árduas do cientista de dados.\n",
    "- É importante saber que os __algoritmos podem realizar tarefas diversas__.\n",
    "- A __escolha__ dos algoritmos depende do __tipo de modelo__ adequado (supervisionado ou não supervisionado), que depende dos dados que se têm, e da __hipótese__ que se tem em mente.\n",
    "- É importante também __compreender se é preciso fazer uma regressão, uma classificação, um agrupamento__.\n",
    "- Há algoritmos que têm capacidade de implementar todos esses tipos de modelos.\n",
    "- Uma __boa dica__ é começar os primeiros __estudos e projetos__ com algum __tipo de algoritmo_, e identificar se ele atende às necessidades, lembrando que mudanças nos atributos (dados de entrada), uso de diferentes técnicas de regularização, mudança nos parâmetros dos algoritmos (e muitos deles têm vários parâmetros) podem representar resultados muito diferentes.\n",
    "- Observe: estamos tratando aqui apenas de mudanças para um algoritmo, em várias situações estarão disponíveis uma gama de algoritmos que realizam tarefas semelhantes com resultados diferentes.\n",
    "- __A experiência e o aprofundamento__ no conhecimento sobre o __funcionamento de cada algoritmo vai tornar a tarefa da escolha mais fácil__, entretanto, a prática sempre mostra que alguns algoritmos, com customizações adequadas (com a experiência do profissional), vai sempre levar aos melhores resultados.\n",
    "  - _Conhecer com profundidade tudo que um algoritmo pode entregar e quais são as características que impactam diretamente nos resultados é muito importante_."
   ]
  },
  {
   "cell_type": "markdown",
   "metadata": {
    "jp-MarkdownHeadingCollapsed": true,
    "tags": []
   },
   "source": [
    "#### SVM (Support Vector Machines)"
   ]
  },
  {
   "cell_type": "markdown",
   "metadata": {},
   "source": [
    "Há muitas possibilidades para se aplicar modelos que possam gerar os melhores resultados. __Algoritmo SVM, da Scikit-Learn__.\n",
    "- O algoritmo __serve para classificação, regressão e também para detecção de outliers__ (pode ser usado para pré-processamento).\n",
    "- Veja que ele indica __vantagens__ de ser usado para __conjuntos de dados com dimensões grandes__ (muitos atributos) e ainda sugere eficácia para conjuntos de dados que a dimensão é maior que a amostra (mais atributos que linhas de dados)."
   ]
  },
  {
   "cell_type": "markdown",
   "metadata": {
    "jp-MarkdownHeadingCollapsed": true,
    "tags": []
   },
   "source": [
    "### Finalizando"
   ]
  },
  {
   "cell_type": "markdown",
   "metadata": {},
   "source": [
    "- Predição é __um dos objetivos a serem alcançados em projetos de DS__.\n",
    "- A predição pode vir __por meio de uma regressão, de uma classificação, de um algoritmo x ou y__.\n",
    "- Há uma __infinidade de algoritmos__, e _muitas características que determinam sua escolha_ (mesmo antes de se iniciar uma modelagem).\n",
    "- O objetivo aqui não foi descrever cada um dos algoritmos, mas facilitar a compreensão de que é necessário experimentar e testar algoritmos para os projetos.\n",
    "- Na próxima aula vamos nos dedicar a um algoritmo específico para trabalhar, o KNN (K-Nearest Neighbors)."
   ]
  },
  {
   "cell_type": "markdown",
   "metadata": {
    "tags": []
   },
   "source": [
    "## KNN (K-Nearest Neighbors)"
   ]
  },
  {
   "cell_type": "markdown",
   "metadata": {},
   "source": [
    "_K-Vizinhos mais próximos_"
   ]
  },
  {
   "cell_type": "markdown",
   "metadata": {
    "jp-MarkdownHeadingCollapsed": true,
    "tags": []
   },
   "source": [
    "### Conceitos"
   ]
  },
  {
   "cell_type": "markdown",
   "metadata": {},
   "source": [
    "- KNN, também chamado de K-Vizinhos mais Próximos é um algoritmo bastante utilizado em vários projetos de DS.\n",
    "- Veja que a Biblioteca Scikit-Learn disponibiliza uma grande variação de aplicações para o algoritmo.\n",
    "- Pode ser __utilizado nos mais variados segmentos__ (áreas de negócios), veja que pode ser utilizado tanto para __classificação__ quanto para __regressão__.\n",
    "  - Na __classificação__ a máquina irá dizer a que __grupo determinado registro faz parte__, dentro obviamente de um contexto de negócio.\n",
    "  - Já a __regressão__ irá nos fornecer __um número/valor__, por exemplo o valor de mercado de uma determinada casa que será colocada à venda.\n",
    "- O KNN é um dos __modelos preditivos mais simples__ que existem. Ele não possui premissas matemáticas e não requer nenhum tipo de maquinário pesado. Ele apenas requer:\n",
    "  - Noção de distância\n",
    "  - Premissa de que pontos que estão perto um do outro são similares.\n",
    "- O KNN __determina pontos para cada registro__ e __estabelece unidades de distância entre esses pontos__.\n",
    "- Algumas medidas de distância podem ser utilizadas:\n",
    "  - Distância Euclidiana\n",
    "  - Distância de Hamming\n",
    "  - Distância Manhattan\n",
    "  - Distância de Markowski\n",
    "- Posteriormente, __para cada novo ponto, ele calcula a distância entre os K vizinhos mais próximos__.\n",
    "  - _Procure sempre usar um K ímpar. E de acordo com os mais próximos ele é capaz de decidir sobre o novo ponto."
   ]
  },
  {
   "cell_type": "markdown",
   "metadata": {
    "jp-MarkdownHeadingCollapsed": true,
    "tags": []
   },
   "source": [
    "#### Avaliação de modelos"
   ]
  },
  {
   "cell_type": "markdown",
   "metadata": {},
   "source": [
    "- De maneira geral, pode-se afirmar que não existe técnica universal, ou seja, não é possível estabelecer, a priori, que uma técnica de ML em particular se sairá melhor na resolução de qualquer tipo de problema.\n",
    "- Por exemplo, em domínios em que os exemplos possuem alta dimensionalidade, as SVMs são boas candidatas, enquanto o algoritmo KNN usando a distância euclidiana pode, a princípio, não parecer uma escolha adequada.\n",
    "- Mesmo com o uso dessas heurísticas, __diversos algoritmos podem ser candidatos__ à solução de um problema.\n",
    "- Ainda que um único algoritmo seja escolhido, pode-se realizar __ajustes em seus parâmetros livres__, o que leva à obtenção de múltiplos modelos para os mesmos dados.\n",
    "- Fica clara a necessidade de experimentação.\n",
    "- Dessa forma, é recomendável seguir __procedimentos que garantam a correção, a validade e a reprodutibilidade dos experimentos__ realizados e, mais importante, das conclusões obtidas a partir de seus resultados.\n",
    "- Essa __avaliação experimental__ de um algoritmo de ML pode ser realizada segundo diferentes aspectos, tais como:\n",
    "  - _acurácia do modelo gerado, compreensibilidade do conhecimento extraído, tempo de aprendizado, requisitos de armazenamento do modelo, desempenho obtido nas predições realizadas, entre outros_."
   ]
  },
  {
   "cell_type": "markdown",
   "metadata": {
    "jp-MarkdownHeadingCollapsed": true,
    "tags": []
   },
   "source": [
    "#### Métricas"
   ]
  },
  {
   "cell_type": "markdown",
   "metadata": {},
   "source": [
    "- A avaliação de um algoritmo de ML supervisionado é normalmente realizada por meio da análise do desempenho do preditor gerado por ele na rotulação de novos objetos, não apresentados previamente em seu treinamento.\n",
    "- Métricas diferentes podem ser aplicadas para classificação, para regressão e também várias outras alternativas como amostragem, bootstrap, validação cruzada, curva roc, entre muitos outros."
   ]
  },
  {
   "cell_type": "markdown",
   "metadata": {
    "jp-MarkdownHeadingCollapsed": true,
    "tags": []
   },
   "source": [
    "##### Classificação"
   ]
  },
  {
   "cell_type": "markdown",
   "metadata": {},
   "source": [
    "- Para classificação pode-se utilizar a acurácia, que é uma métrica que informa a porcentagem de vezes que o modelo acertou. Há outras alternativas mais complexas e que podem ser utilizadas também, como matriz de confusão, que permite determinar revocação e precisão por exemplo."
   ]
  },
  {
   "cell_type": "markdown",
   "metadata": {
    "jp-MarkdownHeadingCollapsed": true,
    "tags": []
   },
   "source": [
    "##### Regressão"
   ]
  },
  {
   "cell_type": "markdown",
   "metadata": {},
   "source": [
    "- Para regressão é comum usar métricas que determinem a diferença de valor entre o valor previsto e o valor correto. Algumas medidas como distância média absoluta (Mean Absolute Distance - MAD) e erro quadrático médio (Mean Square Error - MSE), além das suas variações normalizadas, podem ser utilizadas."
   ]
  },
  {
   "cell_type": "markdown",
   "metadata": {
    "jp-MarkdownHeadingCollapsed": true,
    "tags": []
   },
   "source": [
    "##### Amostragem"
   ]
  },
  {
   "cell_type": "markdown",
   "metadata": {},
   "source": [
    "- Uma métrica bastante utilizada é dividir os dados disponíveis em duas partes. Utiliza-se muito a proporção 75/25, mas não é regra (vai depender dos seus dados).\n",
    "- Neste caso, utiliza-se a parte maior, chamada TREINO, para treinar o modelo e depois realiza-se a predição com a outra parte dos dados, chamada TESTE. Esse é um passo interessante antes de se colocar dados novos para testar o modelo."
   ]
  },
  {
   "cell_type": "markdown",
   "metadata": {
    "jp-MarkdownHeadingCollapsed": true,
    "tags": []
   },
   "source": [
    "##### Validação cruzada"
   ]
  },
  {
   "cell_type": "markdown",
   "metadata": {},
   "source": [
    "- Essa métrica é conhecida como r-fold cross-validation.\n",
    "- Métrica muito interessante, que usa o processo semelhante ao de amostragem, entretanto ele divide em vários subconjuntos de dados e repete o treinamento nos vários conjuntos.\n",
    "- O desempenho final do preditor é dado pela média dos desempenhos observados entre cada conjunto de teste."
   ]
  },
  {
   "cell_type": "markdown",
   "metadata": {
    "jp-MarkdownHeadingCollapsed": true,
    "tags": []
   },
   "source": [
    "### Finalizando"
   ]
  },
  {
   "cell_type": "markdown",
   "metadata": {},
   "source": [
    "- Abordamos o KNN, que é um algoritmo simples e que permite realizar vários tipos de operação (classificação, regressão…).\n",
    "- Já conseguiu entender a diferença entre classificação e regressão? Pense sempre em um valor categórico (label) para classificação e um valor numérico para a regressão.\n",
    "- As medidas para avaliação dos modelos são muito importantes.\n",
    "- Na última semana nos dedicaremos a um projeto completo, com abordagem sobre todos esses elementos!"
   ]
  },
  {
   "cell_type": "markdown",
   "metadata": {},
   "source": [
    "### Demonstração"
   ]
  },
  {
   "cell_type": "markdown",
   "metadata": {
    "jp-MarkdownHeadingCollapsed": true,
    "tags": []
   },
   "source": [
    "## Quiz"
   ]
  },
  {
   "cell_type": "markdown",
   "metadata": {},
   "source": [
    "1. Qual dos algoritmos apresentado na videoaula é capaz de fazer classificação, regressão e detecção de outliers?\n",
    "\n",
    "- __Correta:__ Support Vector Machines.\n",
    "- Naive Bayes.\n",
    "- KNN.\n",
    "- Kernel Ridge Regression.\n",
    "- Decision Tree.\n",
    "\n",
    "__Comentário da resposta:__ Você acertou! Essa é a alternativa correta. O algoritmo Support Vector Machines (SVM) é capaz de fazer classificação, regressão e detecção de outliers."
   ]
  },
  {
   "cell_type": "markdown",
   "metadata": {},
   "source": [
    "2. Qual é o nome do atributo alvo do dataset Iris Flower, usado para realizar o processo de classificação de dados?\n",
    "- Sepal Width.\n",
    "- __Correta:__ Target_name.\n",
    "- Petal Length.\n",
    "- Sepal Length.\n",
    "- Petal Width.\n",
    "\n",
    "__Comentário da resposta:__ Você acertou! Essa é a alternativa correta. O atributo é o Target_name que serve como alvo para o processo de classificação."
   ]
  },
  {
   "cell_type": "markdown",
   "metadata": {},
   "source": [
    "3. Na entrevista realizada com a Renata Castanha, ela falou um pouco da atuação como cientista de dados em uma das maiores empresas do Brasil, qual empresa é essa?\n",
    "- USP\n",
    "- Banco Itaú\n",
    "- Google\n",
    "- Nestlé\n",
    "- __Correta: Ambev__\n",
    "\n",
    "__Comentário da resposta:__ Você acertou! Essa é a alternativa correta. A Renata atua na Ambev."
   ]
  },
  {
   "cell_type": "code",
   "execution_count": null,
   "metadata": {},
   "outputs": [],
   "source": []
  }
 ],
 "metadata": {
  "interpreter": {
   "hash": "ef796e1e7024433d19305a7ffeb65115dd8f1e6a355f1f9a5c3ca9ca67053e84"
  },
  "kernelspec": {
   "display_name": "Python 3 (ipykernel)",
   "language": "python",
   "name": "python3"
  },
  "language_info": {
   "codemirror_mode": {
    "name": "ipython",
    "version": 3
   },
   "file_extension": ".py",
   "mimetype": "text/x-python",
   "name": "python",
   "nbconvert_exporter": "python",
   "pygments_lexer": "ipython3",
   "version": "3.8.12"
  }
 },
 "nbformat": 4,
 "nbformat_minor": 4
}
