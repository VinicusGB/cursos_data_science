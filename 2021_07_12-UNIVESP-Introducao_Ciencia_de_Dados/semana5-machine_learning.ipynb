{
 "cells": [
  {
   "cell_type": "markdown",
   "metadata": {},
   "source": [
    "# Semana 5: Machine Learning\n",
    "\n",
    "**Video-aula:**\n",
    "<a href=\"https://www.youtube.com/watch?v=tKx8E8pW0P0\" target=\"_blank\">Introdução à Machine Learning</a> | \n",
    "<a href=\"https://www.youtube.com/watch?v=LkaAk5z12fU\" target=\"_blank\">Ética e Privacidade</a> | \n",
    "<a href=\"https://www.youtube.com/watch?v=oiC2NJlMTX4\" target=\"_blank\">Entrevista</a>"
   ]
  },
  {
   "cell_type": "markdown",
   "metadata": {
    "jp-MarkdownHeadingCollapsed": true,
    "tags": []
   },
   "source": [
    "## Machine Learning (ML)\n",
    "Machine Learning ou Apredizado de Máquina, é a abordagem da \"Nova Inteligência Artificial\"."
   ]
  },
  {
   "cell_type": "markdown",
   "metadata": {
    "jp-MarkdownHeadingCollapsed": true,
    "tags": []
   },
   "source": [
    "### Computação Tradicional e Machine Learning"
   ]
  },
  {
   "cell_type": "markdown",
   "metadata": {},
   "source": [
    "- Na __computação tradicional__ são as __pessoas__ (programadores) que __criam programas__ (rotinas) para que os computadores possam executá-las.\n",
    "- Em __ML__ os __computadores criam seus próprios procedimentos a partir da observação sobre dados e seus resultados__, ou sobre a estrutura e organização de um conjunto de dados."
   ]
  },
  {
   "cell_type": "markdown",
   "metadata": {
    "jp-MarkdownHeadingCollapsed": true,
    "tags": []
   },
   "source": [
    "### Machine Learning\n",
    "ML é um algoritmo que busca gerar um modelo (induzir uma função ou hipótese) a partir de dados."
   ]
  },
  {
   "cell_type": "markdown",
   "metadata": {},
   "source": [
    "- O uso de __dados como evidência__ e para __tomada de decisão__ e o contexto de __Big Data__ são os principais __impulsionadores do ML__.\n",
    "- ML é essencialmente a __capacidade de computadores aprenderem a realizar uma tarefa ao invés de serem programados para tal tarefa__.\n",
    "- Na inteligência artificial e em ML, deve ocorrer o __desenvolvimento de métricas__, a partir das quais as __máquinas devem ser capazes de criar hipóteses__ e, assim, __resolvê-las__.\n",
    "  - _Exemplo: baseado no perfil, na navegação e/ou na compra de um produto em um e-commerce, o sistema é capaz de recomendar um novo produto para o cliente (com máxima capacidade de acerto que ele também vai adquiri-lo)_.\n",
    "- A esse __processo de indução de uma hipótese__ (ou aproximação de função) __a partir da experiência passada, dá-se o nome de ML__.\n",
    "- Os algoritmos de ML __aprendem a induzir uma função ou hipótese capaz de resolver um problema a partir de dados que representam instâncias do problema a ser resolvido__.\n",
    "  - _Conforme Amaral (2016), ML é a aplicação de técnicas computacionais com o objetivo de encontrar padrões ocultos em dados. Segundo o autor, esses padrões ocultos são aquelas características que não podem ser observadas tão claramente nos dados_.\n",
    "- ML é a __capacidade de computadores criarem um modelo__ (induzirem uma função ou hipótese) que __aprenderam com os dados__.\n",
    "<br><br><br>\n",
    "- Relembrando, o nosso objetivo é usar dados para desenvolver modelos capazes de prever:\n",
    "  - Se um email é spam ou não;\n",
    "  - Se uma transação de crédito é fraudulenta ou não;\n",
    "  - Se um cliente está a ponto de solicitar o cancelamento de um serviço;\n",
    "  - Ajustar um anúncio com maior capacidade de ser clicado por um cliente;\n",
    "\n",
    "\n"
   ]
  },
  {
   "cell_type": "markdown",
   "metadata": {
    "jp-MarkdownHeadingCollapsed": true,
    "tags": []
   },
   "source": [
    "#### Tipos\n",
    "Há ML supervisionado, quando os dados têm resultados e também ML não supervisionado, para o qual é necessário descrever os dados."
   ]
  },
  {
   "cell_type": "markdown",
   "metadata": {},
   "source": [
    "Existem alguns tipos de aprendizado de máquina, dentre os quais podemos citar:\n",
    "- Supervisionado;\n",
    "- Não Supervisionado;\n",
    "- Por reforço."
   ]
  },
  {
   "cell_type": "markdown",
   "metadata": {
    "jp-MarkdownHeadingCollapsed": true,
    "tags": []
   },
   "source": [
    "##### Supervisionado (Preditivo)"
   ]
  },
  {
   "cell_type": "markdown",
   "metadata": {},
   "source": [
    "Normalmente preditivo, traz um __objetivo estabelecido__ e pode ser dividido entre __problemas de regressão e de classificação__.\n",
    "- _Classificação / Regressão_;\n",
    "- No ML supervisionado, os métodos recebem como __entrada dados rotulados__ e usam esses dados e seus atributos para __determinar um novo__ conjunto de __dados desconhecidos__.\n",
    "- Os algoritmos do ML supervisionado __passam__ por uma __etapa__ denominada __treinamento__, na qual o classificador __vai aprender um determinado padrão__ de acordo com os dados utilizados para treinar o sistema.\n",
    "- O ML supervisionado __resolve problemas de__:\n",
    "  - __Regressão__: __mapeiam__ um exemplo em um __valor real__.\n",
    "    - _Um exemplo de regressão é prever o tempo de internação de um paciente em um hospital_.\n",
    "  - __Classificação__: __associa a descrição de um objeto a uma classe_.\n",
    "    - _Um exemplo de classificação é determinar a doença de um paciente pelos seus sintomas_."
   ]
  },
  {
   "cell_type": "markdown",
   "metadata": {
    "jp-MarkdownHeadingCollapsed": true,
    "tags": []
   },
   "source": [
    "##### Não Supervisionda (Descritivo)"
   ]
  },
  {
   "cell_type": "markdown",
   "metadata": {},
   "source": [
    "Normalmente descritivo, quando o __objetivo não está bem definido__ e temos o __intuito de compreender melhor os dados para realizar o agrupamento__.\n",
    "No ML não supervisionado ou descritivo, __agrupam-se__ objetos de acordo com suas __características criando associações entre eles__.\n",
    "- O ML não supervisionado __resolve problemas de__:\n",
    "  - __Agrupamento (clustering)__: os dados são __agrupados de acordo com sua similaridade__.\n",
    "  - __Sumarização__: __busca encontrar uma descrição simples__ e compacta para um conjunto de dados.\n",
    "  - __Associação__: consiste em __encontrar padrões frequentes__ de associações entre os atributos de um conjunto de dados."
   ]
  },
  {
   "cell_type": "markdown",
   "metadata": {
    "jp-MarkdownHeadingCollapsed": true,
    "tags": []
   },
   "source": [
    "##### Reforço"
   ]
  },
  {
   "cell_type": "markdown",
   "metadata": {},
   "source": [
    "Quando as __saídas não estão bem definidas e as respostas só podem ser aferidas após algumas execuções__"
   ]
  },
  {
   "cell_type": "markdown",
   "metadata": {
    "jp-MarkdownHeadingCollapsed": true,
    "tags": []
   },
   "source": [
    "#### Algoritmos\n",
    "Dentro de cada tipo (regressão, classificação, agrupamento) temos os mais diversos algoritmos, com suas diversas características."
   ]
  },
  {
   "cell_type": "markdown",
   "metadata": {},
   "source": [
    "- Na terceira semana do curso nós vimos a biblioteca Scikit-Learn, que disponibiliza os mais variados algoritmos, já prontos, para cada modelo que seja necessário. Com certeza ela vai ser muito importante em seus projetos!\n",
    "- Não é tarefa do cientista de dados desenvolver novos algoritmos, mas sim saber aplicá-los.\n",
    "  - _*claro que há quem queira desenvolver novos algoritmos!_\n",
    "- Não é uma tarefa fácil escolher o algoritmo adequado, inclusive há estudos que colocam algoritmos para testar os melhores algoritmos para uma determinada situação!"
   ]
  },
  {
   "cell_type": "markdown",
   "metadata": {
    "jp-MarkdownHeadingCollapsed": true,
    "tags": []
   },
   "source": [
    "#### Treino e Teste\n",
    "Depois dos __dados__ já terem __passado pelo pré-processamento__, inicia-se uma __divisão dos dados__ para que o __algoritmo possa ser treinado__."
   ]
  },
  {
   "cell_type": "markdown",
   "metadata": {},
   "source": [
    "- Geralmente __divide-se__ o conjunto de dados em torno de __8/2, 7/3 entre treino e teste__, alguns profissionais também gostam de usar um pouco dos dados para validação.\n",
    "  - _Os __dados de treino são usados para criar o modelo__ (treinar) e os __dados de teste para verificar se o modelo realmente atende às expectativas__, esperando que sim!!_\n",
    "  - Essa frase resume nossa disciplina por completo!"
   ]
  },
  {
   "cell_type": "markdown",
   "metadata": {
    "jp-MarkdownHeadingCollapsed": true,
    "tags": []
   },
   "source": [
    "#### Modelo\n",
    "Muito comum que os primeiros modelos tenham problemas de overfitting ou underfitting. Em muitos casos vamos precisar de técnicas de ajuste para os modelos."
   ]
  },
  {
   "cell_type": "markdown",
   "metadata": {},
   "source": [
    "- Um modelo é uma especificação de uma __relação matemática (ou probabilística) entre diferentes variáveis__.\n",
    "- Embora seja possível __criar muitas regras que funcionem bem com dados de treinamento__, é __importante__ que as regras operem __bem com novos dados__, ou seja, os conjuntos de testes. Isso que se espera de uma predição!\n",
    "- Podem haver __discrepâncias entre o modelo treinado e os testes__ que são feitos com a outra parte dos dados.\n",
    "- __Espera-se__ sempre que __não aconteça__ no modelo nem o __overfitting (sobreajuste) nem o underfitting (subajuste)__.\n",
    "- A __busca__ do cientista de dados é sempre pelo __modelo mais equilibrado__ possível.\n",
    "- Quanto __mais complexo o modelo__ for, __melhor preverá__ os dados de treinamento. No entanto, se o modelo se __tornar muito complexo__, __concentrar-se-á demais em cada ponto de dados individual__ no conjunto de treinamento, e o modelo não será __generalizado para novos dados__.\n",
    "- Há um __ponto ideal__ no meio que renderá o __melhor desempenho de generalização__, este é o __modelo__ que deve ser __buscado e encontrado__."
   ]
  },
  {
   "cell_type": "markdown",
   "metadata": {
    "jp-MarkdownHeadingCollapsed": true,
    "tags": []
   },
   "source": [
    "##### Overfiting (Sobreajuste)"
   ]
  },
  {
   "cell_type": "markdown",
   "metadata": {},
   "source": [
    "- Ocorre quando se __ajusta um modelo muito de perto às particularidades__ do conjunto de treinamento e obtém um modelo que funciona bem no conjunto de treinamento, mas __não é capaz de generalizar para novos dados__."
   ]
  },
  {
   "cell_type": "markdown",
   "metadata": {
    "jp-MarkdownHeadingCollapsed": true,
    "tags": []
   },
   "source": [
    "##### Underfitting (Subajuste)"
   ]
  },
  {
   "cell_type": "markdown",
   "metadata": {},
   "source": [
    "- Se o __modelo é muito simples__, então pode não ser capaz de __capturar todos os aspectos e variabilidade dos dados__, e o __modelo se sairá mal, mesmo no conjunto de treinamento__."
   ]
  },
  {
   "cell_type": "markdown",
   "metadata": {
    "jp-MarkdownHeadingCollapsed": true,
    "tags": []
   },
   "source": [
    "##### Viés e Variância"
   ]
  },
  {
   "cell_type": "markdown",
   "metadata": {},
   "source": [
    "- O __viés__ (bias em inglês) é a __incapacidade de um modelo em estabelecer a relação entre as variáveis e o objeto a ser predito__.\n",
    "- A __variância__ está relacionada à __sensibilidade de um modelo__. Se um modelo é __muito sensível__ ao treinamento, ele __não é capaz de acertar__ os resultados nos dados de teste."
   ]
  },
  {
   "cell_type": "markdown",
   "metadata": {
    "jp-MarkdownHeadingCollapsed": true,
    "tags": []
   },
   "source": [
    "##### Regularização"
   ]
  },
  {
   "cell_type": "markdown",
   "metadata": {},
   "source": [
    "- Regularização é uma das __técnicas utilizadas para minimizar os problemas de variância__.\n",
    "- É um __processo de penalização nos dados__, de forma a __minimizar o erro da generalização__ do modelo sem afetar muito o modelo baseado no treinamento.\n",
    "- Há várias estratégias para efetivar regularizações, entretanto o mais importante por enquanto é saber que é muito comum (e veremos isso mais a frente) a utilização desse recurso para realizar ajustes nos modelos."
   ]
  },
  {
   "cell_type": "markdown",
   "metadata": {
    "jp-MarkdownHeadingCollapsed": true,
    "tags": []
   },
   "source": [
    "## Privacidade e Ética\n",
    "As questões de ética e privacidade são de fundamental importância, desde a coleta dos dados até a entrega dos resultados, geralmente por meio de visualizações."
   ]
  },
  {
   "cell_type": "markdown",
   "metadata": {
    "jp-MarkdownHeadingCollapsed": true,
    "tags": []
   },
   "source": [
    "### Privacidade\n",
    "Refers:\n",
    "<a href=\"https://www.serpro.gov.br/lgpd/menu/a-lgpd/o-que-muda-com-a-lgpd\">LGPD</a> | \n",
    "<a href=\"http://www.planalto.gov.br/ccivil_03/_ato2011-2014/2014/lei/l12965.htm\">Marco Civil da Internet</a>"
   ]
  },
  {
   "cell_type": "markdown",
   "metadata": {},
   "source": [
    "Ao tratar dados de uma forma geral é muito importante observarmos que após inúmeros caso de exposição de dados pessoais, alguns países, inclusive o Brasil, vêm se preocupando com a questão de como lidar com dados pessoais.\n",
    "- No Brasil temos a LGPD:\n",
    "  - A Lei Geral de Proteção de Dados Pessoais (LGPD ou LGPDP), Lei nº 13.709/2018[1], é a legislação brasileira que regula as atividades de tratamento de dados pessoais e que também altera os artigos 7º e 16 do Marco Civil da Internet.\n",
    "- Ressalta-se a necessidade do __cuidado e de conhecer a legislação para evitar lidar com dados não públicos__.\n",
    "- Algumas técnicas de __anonimização de dados pessoais são recorrentes, inclusive há algoritmos para tal__.\n",
    "- O objetivo aqui não é discutir as técnicas, mas sim destacar a necessidade da compreensão e __bom senso ao lidar__, principalmente, __com dados pessoais, mas também com dados privados de um modo geral__.\n",
    "- Algumas dicas importantes ao lidar com dados de um modo geral:\n",
    "  - Esses dados têm algum tipo de licença pública?\n",
    "  - Qual é a origem desses dados, ou seja, qual é a proveniência deles.\n",
    "  - Além da proveniência (de onde vieram), como eles chegaram até você? Foram comprados, doados, o processo de aquisição é legal?\n",
    "  - Esses dados estão atualizados?"
   ]
  },
  {
   "cell_type": "markdown",
   "metadata": {
    "jp-MarkdownHeadingCollapsed": true,
    "tags": []
   },
   "source": [
    "### Discriminação"
   ]
  },
  {
   "cell_type": "markdown",
   "metadata": {},
   "source": [
    "- Um fator pouco discutido ao lidar com dados é a questão __ética e discriminatória das análises__.\n",
    "- A questão da discriminação deve ser sempre considerada para __evitar que grupos minoritários sejam penalizados__ por dados que sempre privilegiem grupos majoritários.\n",
    "  - _Exemplo: buracos em Boston (estudo de 2013)_.\n",
    "  - _Exemplo: estudo sobre saúde em um país onde 99% da população usa o mesmo sistema, ou analisar a saúde baseado em um país onde 30% da população usa um determinado sistema (público ou privado)_."
   ]
  },
  {
   "cell_type": "markdown",
   "metadata": {
    "jp-MarkdownHeadingCollapsed": true,
    "tags": []
   },
   "source": [
    "### Ética\n",
    "Refers:\n",
    "<a href=\"https://viz.wtf\">VIZ</a>"
   ]
  },
  {
   "cell_type": "markdown",
   "metadata": {},
   "source": [
    "- Um problema ético está presente quando se deseja demonstrar a falta de realidade, ou apresentar resultados que não condizem com os dados de treinamento.\n",
    "- Podemos entender como tendenciosidade, manipulação, fraude, inocência, falta de conhecimento?\n",
    "- Usar dados (ou falsas medidas) quando é conveniente.\n",
    "- Apelar nas visualizações!"
   ]
  },
  {
   "cell_type": "markdown",
   "metadata": {
    "jp-MarkdownHeadingCollapsed": true,
    "tags": []
   },
   "source": [
    "## Quiz"
   ]
  },
  {
   "cell_type": "markdown",
   "metadata": {},
   "source": [
    "1. Quando um algoritmo de Machine Learning busca agrupar dados de acordo com sua similaridade, estamos nos referindo a resolver problemas de:\n",
    "- **Correta:** agrupamento.\n",
    "- regressão.\n",
    "- classificação.\n",
    "- associação.\n",
    "- sumarização.\n",
    "<br><br>\n",
    "**Comentário da resposta:** Você acertou! Essa é a alternativa correta. O agrupamento (clustering) é o problema que tem que ser resolvido quando se precisar juntar dados de acordo com sua similaridade."
   ]
  },
  {
   "cell_type": "markdown",
   "metadata": {},
   "source": [
    "2. Como é chamado o processo de penalização nos dados, de forma a minimizar o erro da generalização do modelo, sem afetar muito o modelo baseado no treinamento?\n",
    "- Sobreajuste.\n",
    "- **Correta:** Regularização.\n",
    "- Viés.\n",
    "- Variância.\n",
    "- Subajuste.\n",
    "<br><br>\n",
    "**Comentário da resposta:** Você acertou! Essa é a alternativa correta. Regularização é o processo de penalização dos dados.\n",
    "\n"
   ]
  },
  {
   "cell_type": "markdown",
   "metadata": {},
   "source": [
    "3. Na entrevista realizada com Leonardo Karpinski, qual é o software para o qual ele é considerado um dos principais profissionais a atuar no Brasil, e foi utilizado por ele para apresentar dados em dashboards?\n",
    "- Google Colab.\n",
    "- Google Data Studio.\n",
    "- **Correta:** Power BI.\n",
    "- Pandas.\n",
    "- Tableau.\n",
    "<br><br>\n",
    "**Comentário da resposta:** Você acertou! Essa é a alternativa correta. Power BI é o software utilizado.\n",
    "\n"
   ]
  },
  {
   "cell_type": "markdown",
   "metadata": {},
   "source": [
    "4. Entre os tipos de aprendizagem de máquina, qual é o que apresenta um objetivo estabelecido e no qual os dados já vêm rotulados com os resultados? Texto Base 5.1 - Introdução a Big Data e Internet das Coisas (IoT)\n",
    "- Agrupamento.\n",
    "- Clustering.\n",
    "- **Correta:** Supervisionado.\n",
    "- Não supervisionado.\n",
    "- Por reforço.\n",
    "<br><br>\n",
    "**Comentário da resposta:** Você acertou! Essa é a alternativa correta. No aprendizado de máquina supervisionado, os dados de treino já se apresentam com os resultados rotulados.\n"
   ]
  },
  {
   "cell_type": "markdown",
   "metadata": {},
   "source": [
    "5. Assinale a alternativa que se refere ao conceito da especificação de uma relação matemática (ou probabilística) entre diferentes variáveis. Texto-base - 5.2 Data Science do Zero\n",
    "- **Correta:** Um modelo\n",
    "- Um subajuste\n",
    "- Um viés\n",
    "- Uma variância\n",
    "- Um sobreajuste\n",
    "<br><br>\n",
    "**Comentário da resposta:** Você acertou! Essa é a alternativa correta. Um modelo é uma especificação de uma relação matemática entre diferentes variáveis.\n",
    "\n"
   ]
  },
  {
   "cell_type": "markdown",
   "metadata": {},
   "source": [
    "\n",
    "6. O texto “Big Data: fatores potencialmente discriminatórios em análise de dados” apresenta um conjunto de casos, em que são apontados elementos que indicam discriminação no processo de análise de dados. Em qual dos textos elencados apresenta-se o problema de amostra com dados incorretos ou incompletos: Texto-base 5.3 - Big Data: fatores potencialmente discriminatórios em análise de dados\n",
    "- Sweeney (2013)\n",
    "- Lohr (2013)\n",
    "- Butler (2013)\n",
    "- **Correta:** Goldstein e Winkelmayer (2015)\n",
    "- Frank et al. (2013)\n",
    "<br><br>\n",
    "**Comentário da resposta:** Você acertou! Essa é a alternativa correta. O texto de Goldstein e Winkelmayer trata de dados incompletos e incorretos.\n",
    "\n"
   ]
  },
  {
   "cell_type": "markdown",
   "metadata": {},
   "source": []
  }
 ],
 "metadata": {
  "interpreter": {
   "hash": "ef796e1e7024433d19305a7ffeb65115dd8f1e6a355f1f9a5c3ca9ca67053e84"
  },
  "kernelspec": {
   "display_name": "Python 3 (ipykernel)",
   "language": "python",
   "name": "python3"
  },
  "language_info": {
   "codemirror_mode": {
    "name": "ipython",
    "version": 3
   },
   "file_extension": ".py",
   "mimetype": "text/x-python",
   "name": "python",
   "nbconvert_exporter": "python",
   "pygments_lexer": "ipython3",
   "version": "3.8.12"
  }
 },
 "nbformat": 4,
 "nbformat_minor": 4
}
