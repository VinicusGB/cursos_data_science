{
 "cells": [
  {
   "cell_type": "markdown",
   "metadata": {},
   "source": [
    "# Semana 3: Visualização de Dados, WEB Scraping e Manipulação de Arquivos\n",
    "\n",
    "**Video-aula:** <a href=\"https://www.youtube.com/watch?v=J4iwm0r2iwo\" target=\"_blank\">Visualização de Dados</a> | \n",
    "<a href=\"https://www.youtube.com/watch?v=WUOgfssS1cg\" target=\"_blank\">Web Scraping</a> | \n",
    "<a href=\"https://www.youtube.com/watch?v=Ax5zQjF1rs0\" target=\"_blank\">Manipulação de Arquivos</a>"
   ]
  },
  {
   "cell_type": "markdown",
   "metadata": {},
   "source": [
    "## Visualização de dados"
   ]
  },
  {
   "cell_type": "markdown",
   "metadata": {},
   "source": [
    "### Scikit-Learn\n",
    "Refers: https://numpy.org/doc/stable/reference/\n",
    "\n",
    "- Utilizada para processamento númerico;\n",
    "- Muito utilizada para array e também para array multidimensional, adequada para dados homogêneos em arrays;\n",
    "- Faz operações matemáticas rápidas, sem uso de laços"
   ]
  },
  {
   "cell_type": "code",
   "execution_count": 1,
   "metadata": {},
   "outputs": [],
   "source": [
    "import pandas as pa"
   ]
  }
 ],
 "metadata": {
  "interpreter": {
   "hash": "ef796e1e7024433d19305a7ffeb65115dd8f1e6a355f1f9a5c3ca9ca67053e84"
  },
  "kernelspec": {
   "display_name": "Python 3 (ipykernel)",
   "language": "python",
   "name": "python3"
  },
  "language_info": {
   "codemirror_mode": {
    "name": "ipython",
    "version": 3
   },
   "file_extension": ".py",
   "mimetype": "text/x-python",
   "name": "python",
   "nbconvert_exporter": "python",
   "pygments_lexer": "ipython3",
   "version": "3.8.12"
  }
 },
 "nbformat": 4,
 "nbformat_minor": 4
}
